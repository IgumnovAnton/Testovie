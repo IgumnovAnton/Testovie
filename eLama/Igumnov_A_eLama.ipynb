{
 "cells": [
  {
   "cell_type": "markdown",
   "metadata": {},
   "source": [
    "## Тестовое задание для Яндекс.Практикума"
   ]
  },
  {
   "cell_type": "code",
   "execution_count": 1,
   "metadata": {},
   "outputs": [],
   "source": [
    "#!pip install skimpy"
   ]
  },
  {
   "cell_type": "code",
   "execution_count": 2,
   "metadata": {},
   "outputs": [],
   "source": [
    "import pandas as pd\n",
    "import numpy as np\n",
    "import sqlite3 as sql\n",
    "\n",
    "from skimpy import skim\n",
    "\n",
    "import seaborn as sns\n",
    "import matplotlib.pyplot as plt"
   ]
  },
  {
   "cell_type": "code",
   "execution_count": 3,
   "metadata": {},
   "outputs": [],
   "source": [
    "sns.set_style(style='whitegrid')\n",
    "plt.rcParams['figure.figsize'] = [10, 7]\n",
    "sns.set_palette(\"Set2\")"
   ]
  },
  {
   "cell_type": "code",
   "execution_count": 4,
   "metadata": {},
   "outputs": [],
   "source": [
    "import warnings\n",
    "warnings.filterwarnings('ignore')"
   ]
  },
  {
   "cell_type": "code",
   "execution_count": 5,
   "metadata": {},
   "outputs": [],
   "source": [
    "logs_12 = 'logs_2022-09-12.db'\n",
    "logs_13 = 'logs_2022-09-13.db'\n",
    "logs_14 = 'logs_2022-09-14.db'\n",
    "\n",
    "connection_12 = sql.connect(logs_12)\n",
    "connection_13 = sql.connect(logs_13)\n",
    "connection_14 = sql.connect(logs_14)"
   ]
  },
  {
   "cell_type": "markdown",
   "metadata": {},
   "source": [
    "## Загрузка и объединение датасетов"
   ]
  },
  {
   "cell_type": "code",
   "execution_count": 6,
   "metadata": {},
   "outputs": [],
   "source": [
    "def db_load(connection):\n",
    "    qq = '''SELECT *\n",
    "        FROM events AS e\n",
    "        JOIN event_name AS en ON e.event_id = en.id'''\n",
    "\n",
    "    return pd.read_sql_query(qq, connection, parse_dates=['request_time']).drop(columns='id')"
   ]
  },
  {
   "cell_type": "code",
   "execution_count": 7,
   "metadata": {},
   "outputs": [],
   "source": [
    "df_12, df_13, df_14 = db_load(connection_12), db_load(connection_13), db_load(connection_14)\n",
    "\n",
    "df = pd.concat([df_12, df_13, df_14]).reset_index()"
   ]
  },
  {
   "cell_type": "code",
   "execution_count": 8,
   "metadata": {},
   "outputs": [
    {
     "data": {
      "text/html": [
       "<pre style=\"white-space:pre;overflow-x:auto;line-height:normal;font-family:Menlo,'DejaVu Sans Mono',consolas,'Courier New',monospace\">╭──────────────────────────────────────────────── skimpy summary ─────────────────────────────────────────────────╮\n",
       "│ <span style=\"font-style: italic\">         Data Summary         </span> <span style=\"font-style: italic\">      Data Types       </span>                                                          │\n",
       "│ ┏━━━━━━━━━━━━━━━━━━━┳━━━━━━━━┓ ┏━━━━━━━━━━━━━┳━━━━━━━┓                                                          │\n",
       "│ ┃<span style=\"color: #008080; text-decoration-color: #008080; font-weight: bold\"> dataframe         </span>┃<span style=\"color: #008080; text-decoration-color: #008080; font-weight: bold\"> Values </span>┃ ┃<span style=\"color: #008080; text-decoration-color: #008080; font-weight: bold\"> Column Type </span>┃<span style=\"color: #008080; text-decoration-color: #008080; font-weight: bold\"> Count </span>┃                                                          │\n",
       "│ ┡━━━━━━━━━━━━━━━━━━━╇━━━━━━━━┩ ┡━━━━━━━━━━━━━╇━━━━━━━┩                                                          │\n",
       "│ │ Number of rows    │ 11207  │ │ string      │ 5     │                                                          │\n",
       "│ │ Number of columns │ 7      │ │ datetime64  │ 1     │                                                          │\n",
       "│ └───────────────────┴────────┘ │ int64       │ 1     │                                                          │\n",
       "│                                └─────────────┴───────┘                                                          │\n",
       "│ <span style=\"font-style: italic\">                                                    number                                                    </span>  │\n",
       "│ ┏━━━━━━━━━━━━━━━━━━━━━┳━━━━━━━┳━━━━━━━━━━┳━━━━━━━━━━┳━━━━━━━━┳━━━━━━━┳━━━━━━━━┳━━━━━━━━┳━━━━━━━━━┳━━━━━━━━━━━┓  │\n",
       "│ ┃<span style=\"font-weight: bold\"> column_name         </span>┃<span style=\"font-weight: bold\"> NA    </span>┃<span style=\"font-weight: bold\"> NA %     </span>┃<span style=\"font-weight: bold\"> mean     </span>┃<span style=\"font-weight: bold\"> sd     </span>┃<span style=\"font-weight: bold\"> p0    </span>┃<span style=\"font-weight: bold\"> p25    </span>┃<span style=\"font-weight: bold\"> p75    </span>┃<span style=\"font-weight: bold\"> p100    </span>┃<span style=\"font-weight: bold\"> hist      </span>┃  │\n",
       "│ ┡━━━━━━━━━━━━━━━━━━━━━╇━━━━━━━╇━━━━━━━━━━╇━━━━━━━━━━╇━━━━━━━━╇━━━━━━━╇━━━━━━━━╇━━━━━━━━╇━━━━━━━━━╇━━━━━━━━━━━┩  │\n",
       "│ │ <span style=\"color: #af87ff; text-decoration-color: #af87ff\">event_id           </span> │ <span style=\"color: #008080; text-decoration-color: #008080\">    0</span> │ <span style=\"color: #008080; text-decoration-color: #008080\">       0</span> │ <span style=\"color: #008080; text-decoration-color: #008080\">      17</span> │ <span style=\"color: #008080; text-decoration-color: #008080\">   9.1</span> │ <span style=\"color: #008080; text-decoration-color: #008080\">    1</span> │ <span style=\"color: #008080; text-decoration-color: #008080\">     9</span> │ <span style=\"color: #008080; text-decoration-color: #008080\">    24</span> │ <span style=\"color: #008080; text-decoration-color: #008080\">     34</span> │ <span style=\"color: #008000; text-decoration-color: #008000\"> ▆▇█▇▇▅  </span> │  │\n",
       "│ └─────────────────────┴───────┴──────────┴──────────┴────────┴───────┴────────┴────────┴─────────┴───────────┘  │\n",
       "│ <span style=\"font-style: italic\">                                                   datetime                                                   </span>  │\n",
       "│ ┏━━━━━━━━━━━━━━━━━━━┳━━━━━━┳━━━━━━━━┳━━━━━━━━━━━━━━━━━━━━━━━━━━━━┳━━━━━━━━━━━━━━━━━━━━━━━━━━━━┳━━━━━━━━━━━━━━┓  │\n",
       "│ ┃<span style=\"font-weight: bold\"> column_name       </span>┃<span style=\"font-weight: bold\"> NA   </span>┃<span style=\"font-weight: bold\"> NA %   </span>┃<span style=\"font-weight: bold\"> first                      </span>┃<span style=\"font-weight: bold\"> last                       </span>┃<span style=\"font-weight: bold\"> frequency    </span>┃  │\n",
       "│ ┡━━━━━━━━━━━━━━━━━━━╇━━━━━━╇━━━━━━━━╇━━━━━━━━━━━━━━━━━━━━━━━━━━━━╇━━━━━━━━━━━━━━━━━━━━━━━━━━━━╇━━━━━━━━━━━━━━┩  │\n",
       "│ │ <span style=\"color: #af87ff; text-decoration-color: #af87ff\">request_time     </span> │ <span style=\"color: #008080; text-decoration-color: #008080\">   0</span> │ <span style=\"color: #008080; text-decoration-color: #008080\">     0</span> │ <span style=\"color: #800000; text-decoration-color: #800000\">   2022-09-12 11:30:11.   </span> │ <span style=\"color: #800000; text-decoration-color: #800000\">   2022-09-12 18:24:18.   </span> │ <span style=\"color: #af87ff; text-decoration-color: #af87ff\">None        </span> │  │\n",
       "│ └───────────────────┴──────┴────────┴────────────────────────────┴────────────────────────────┴──────────────┘  │\n",
       "│ <span style=\"font-style: italic\">                                                    string                                                    </span>  │\n",
       "│ ┏━━━━━━━━━━━━━━━━━━━━━━━━━━━━━━━┳━━━━━━━━┳━━━━━━━━━━━━┳━━━━━━━━━━━━━━━━━━━━━━━━━━━━━┳━━━━━━━━━━━━━━━━━━━━━━━━┓  │\n",
       "│ ┃<span style=\"font-weight: bold\"> column_name                   </span>┃<span style=\"font-weight: bold\"> NA     </span>┃<span style=\"font-weight: bold\"> NA %       </span>┃<span style=\"font-weight: bold\"> words per row               </span>┃<span style=\"font-weight: bold\"> total words            </span>┃  │\n",
       "│ ┡━━━━━━━━━━━━━━━━━━━━━━━━━━━━━━━╇━━━━━━━━╇━━━━━━━━━━━━╇━━━━━━━━━━━━━━━━━━━━━━━━━━━━━╇━━━━━━━━━━━━━━━━━━━━━━━━┩  │\n",
       "│ │ <span style=\"color: #af87ff; text-decoration-color: #af87ff\">forecastMarker               </span> │ <span style=\"color: #008080; text-decoration-color: #008080\">     0</span> │ <span style=\"color: #008080; text-decoration-color: #008080\">         0</span> │ <span style=\"color: #008080; text-decoration-color: #008080\">                        1.1</span> │ <span style=\"color: #008080; text-decoration-color: #008080\">                 12000</span> │  │\n",
       "│ │ <span style=\"color: #af87ff; text-decoration-color: #af87ff\">sender                       </span> │ <span style=\"color: #008080; text-decoration-color: #008080\">     0</span> │ <span style=\"color: #008080; text-decoration-color: #008080\">         0</span> │ <span style=\"color: #008080; text-decoration-color: #008080\">                        1.1</span> │ <span style=\"color: #008080; text-decoration-color: #008080\">                 12000</span> │  │\n",
       "│ │ <span style=\"color: #af87ff; text-decoration-color: #af87ff\">context                      </span> │ <span style=\"color: #008080; text-decoration-color: #008080\">     0</span> │ <span style=\"color: #008080; text-decoration-color: #008080\">         0</span> │ <span style=\"color: #008080; text-decoration-color: #008080\">                        1.1</span> │ <span style=\"color: #008080; text-decoration-color: #008080\">                 12000</span> │  │\n",
       "│ │ <span style=\"color: #af87ff; text-decoration-color: #af87ff\">session_id                   </span> │ <span style=\"color: #008080; text-decoration-color: #008080\">     0</span> │ <span style=\"color: #008080; text-decoration-color: #008080\">         0</span> │ <span style=\"color: #008080; text-decoration-color: #008080\">                        1.1</span> │ <span style=\"color: #008080; text-decoration-color: #008080\">                 12000</span> │  │\n",
       "│ │ <span style=\"color: #af87ff; text-decoration-color: #af87ff\">event_name                   </span> │ <span style=\"color: #008080; text-decoration-color: #008080\">     0</span> │ <span style=\"color: #008080; text-decoration-color: #008080\">         0</span> │ <span style=\"color: #008080; text-decoration-color: #008080\">                        1.1</span> │ <span style=\"color: #008080; text-decoration-color: #008080\">                 12000</span> │  │\n",
       "│ └───────────────────────────────┴────────┴────────────┴─────────────────────────────┴────────────────────────┘  │\n",
       "╰────────────────────────────────────────────────────── End ──────────────────────────────────────────────────────╯\n",
       "</pre>\n"
      ],
      "text/plain": [
       "╭──────────────────────────────────────────────── skimpy summary ─────────────────────────────────────────────────╮\n",
       "│ \u001b[3m         Data Summary         \u001b[0m \u001b[3m      Data Types       \u001b[0m                                                          │\n",
       "│ ┏━━━━━━━━━━━━━━━━━━━┳━━━━━━━━┓ ┏━━━━━━━━━━━━━┳━━━━━━━┓                                                          │\n",
       "│ ┃\u001b[1;36m \u001b[0m\u001b[1;36mdataframe        \u001b[0m\u001b[1;36m \u001b[0m┃\u001b[1;36m \u001b[0m\u001b[1;36mValues\u001b[0m\u001b[1;36m \u001b[0m┃ ┃\u001b[1;36m \u001b[0m\u001b[1;36mColumn Type\u001b[0m\u001b[1;36m \u001b[0m┃\u001b[1;36m \u001b[0m\u001b[1;36mCount\u001b[0m\u001b[1;36m \u001b[0m┃                                                          │\n",
       "│ ┡━━━━━━━━━━━━━━━━━━━╇━━━━━━━━┩ ┡━━━━━━━━━━━━━╇━━━━━━━┩                                                          │\n",
       "│ │ Number of rows    │ 11207  │ │ string      │ 5     │                                                          │\n",
       "│ │ Number of columns │ 7      │ │ datetime64  │ 1     │                                                          │\n",
       "│ └───────────────────┴────────┘ │ int64       │ 1     │                                                          │\n",
       "│                                └─────────────┴───────┘                                                          │\n",
       "│ \u001b[3m                                                    number                                                    \u001b[0m  │\n",
       "│ ┏━━━━━━━━━━━━━━━━━━━━━┳━━━━━━━┳━━━━━━━━━━┳━━━━━━━━━━┳━━━━━━━━┳━━━━━━━┳━━━━━━━━┳━━━━━━━━┳━━━━━━━━━┳━━━━━━━━━━━┓  │\n",
       "│ ┃\u001b[1m \u001b[0m\u001b[1mcolumn_name        \u001b[0m\u001b[1m \u001b[0m┃\u001b[1m \u001b[0m\u001b[1mNA   \u001b[0m\u001b[1m \u001b[0m┃\u001b[1m \u001b[0m\u001b[1mNA %    \u001b[0m\u001b[1m \u001b[0m┃\u001b[1m \u001b[0m\u001b[1mmean    \u001b[0m\u001b[1m \u001b[0m┃\u001b[1m \u001b[0m\u001b[1msd    \u001b[0m\u001b[1m \u001b[0m┃\u001b[1m \u001b[0m\u001b[1mp0   \u001b[0m\u001b[1m \u001b[0m┃\u001b[1m \u001b[0m\u001b[1mp25   \u001b[0m\u001b[1m \u001b[0m┃\u001b[1m \u001b[0m\u001b[1mp75   \u001b[0m\u001b[1m \u001b[0m┃\u001b[1m \u001b[0m\u001b[1mp100   \u001b[0m\u001b[1m \u001b[0m┃\u001b[1m \u001b[0m\u001b[1mhist     \u001b[0m\u001b[1m \u001b[0m┃  │\n",
       "│ ┡━━━━━━━━━━━━━━━━━━━━━╇━━━━━━━╇━━━━━━━━━━╇━━━━━━━━━━╇━━━━━━━━╇━━━━━━━╇━━━━━━━━╇━━━━━━━━╇━━━━━━━━━╇━━━━━━━━━━━┩  │\n",
       "│ │ \u001b[38;5;141mevent_id           \u001b[0m │ \u001b[36m    0\u001b[0m │ \u001b[36m       0\u001b[0m │ \u001b[36m      17\u001b[0m │ \u001b[36m   9.1\u001b[0m │ \u001b[36m    1\u001b[0m │ \u001b[36m     9\u001b[0m │ \u001b[36m    24\u001b[0m │ \u001b[36m     34\u001b[0m │ \u001b[32m ▆▇█▇▇▅  \u001b[0m │  │\n",
       "│ └─────────────────────┴───────┴──────────┴──────────┴────────┴───────┴────────┴────────┴─────────┴───────────┘  │\n",
       "│ \u001b[3m                                                   datetime                                                   \u001b[0m  │\n",
       "│ ┏━━━━━━━━━━━━━━━━━━━┳━━━━━━┳━━━━━━━━┳━━━━━━━━━━━━━━━━━━━━━━━━━━━━┳━━━━━━━━━━━━━━━━━━━━━━━━━━━━┳━━━━━━━━━━━━━━┓  │\n",
       "│ ┃\u001b[1m \u001b[0m\u001b[1mcolumn_name      \u001b[0m\u001b[1m \u001b[0m┃\u001b[1m \u001b[0m\u001b[1mNA  \u001b[0m\u001b[1m \u001b[0m┃\u001b[1m \u001b[0m\u001b[1mNA %  \u001b[0m\u001b[1m \u001b[0m┃\u001b[1m \u001b[0m\u001b[1mfirst                     \u001b[0m\u001b[1m \u001b[0m┃\u001b[1m \u001b[0m\u001b[1mlast                      \u001b[0m\u001b[1m \u001b[0m┃\u001b[1m \u001b[0m\u001b[1mfrequency   \u001b[0m\u001b[1m \u001b[0m┃  │\n",
       "│ ┡━━━━━━━━━━━━━━━━━━━╇━━━━━━╇━━━━━━━━╇━━━━━━━━━━━━━━━━━━━━━━━━━━━━╇━━━━━━━━━━━━━━━━━━━━━━━━━━━━╇━━━━━━━━━━━━━━┩  │\n",
       "│ │ \u001b[38;5;141mrequest_time     \u001b[0m │ \u001b[36m   0\u001b[0m │ \u001b[36m     0\u001b[0m │ \u001b[31m   2022-09-12 11:30:11.   \u001b[0m │ \u001b[31m   2022-09-12 18:24:18.   \u001b[0m │ \u001b[38;5;141mNone        \u001b[0m │  │\n",
       "│ └───────────────────┴──────┴────────┴────────────────────────────┴────────────────────────────┴──────────────┘  │\n",
       "│ \u001b[3m                                                    string                                                    \u001b[0m  │\n",
       "│ ┏━━━━━━━━━━━━━━━━━━━━━━━━━━━━━━━┳━━━━━━━━┳━━━━━━━━━━━━┳━━━━━━━━━━━━━━━━━━━━━━━━━━━━━┳━━━━━━━━━━━━━━━━━━━━━━━━┓  │\n",
       "│ ┃\u001b[1m \u001b[0m\u001b[1mcolumn_name                  \u001b[0m\u001b[1m \u001b[0m┃\u001b[1m \u001b[0m\u001b[1mNA    \u001b[0m\u001b[1m \u001b[0m┃\u001b[1m \u001b[0m\u001b[1mNA %      \u001b[0m\u001b[1m \u001b[0m┃\u001b[1m \u001b[0m\u001b[1mwords per row              \u001b[0m\u001b[1m \u001b[0m┃\u001b[1m \u001b[0m\u001b[1mtotal words           \u001b[0m\u001b[1m \u001b[0m┃  │\n",
       "│ ┡━━━━━━━━━━━━━━━━━━━━━━━━━━━━━━━╇━━━━━━━━╇━━━━━━━━━━━━╇━━━━━━━━━━━━━━━━━━━━━━━━━━━━━╇━━━━━━━━━━━━━━━━━━━━━━━━┩  │\n",
       "│ │ \u001b[38;5;141mforecastMarker               \u001b[0m │ \u001b[36m     0\u001b[0m │ \u001b[36m         0\u001b[0m │ \u001b[36m                        1.1\u001b[0m │ \u001b[36m                 12000\u001b[0m │  │\n",
       "│ │ \u001b[38;5;141msender                       \u001b[0m │ \u001b[36m     0\u001b[0m │ \u001b[36m         0\u001b[0m │ \u001b[36m                        1.1\u001b[0m │ \u001b[36m                 12000\u001b[0m │  │\n",
       "│ │ \u001b[38;5;141mcontext                      \u001b[0m │ \u001b[36m     0\u001b[0m │ \u001b[36m         0\u001b[0m │ \u001b[36m                        1.1\u001b[0m │ \u001b[36m                 12000\u001b[0m │  │\n",
       "│ │ \u001b[38;5;141msession_id                   \u001b[0m │ \u001b[36m     0\u001b[0m │ \u001b[36m         0\u001b[0m │ \u001b[36m                        1.1\u001b[0m │ \u001b[36m                 12000\u001b[0m │  │\n",
       "│ │ \u001b[38;5;141mevent_name                   \u001b[0m │ \u001b[36m     0\u001b[0m │ \u001b[36m         0\u001b[0m │ \u001b[36m                        1.1\u001b[0m │ \u001b[36m                 12000\u001b[0m │  │\n",
       "│ └───────────────────────────────┴────────┴────────────┴─────────────────────────────┴────────────────────────┘  │\n",
       "╰────────────────────────────────────────────────────── End ──────────────────────────────────────────────────────╯\n"
      ]
     },
     "metadata": {},
     "output_type": "display_data"
    }
   ],
   "source": [
    "skim(df_12)"
   ]
  },
  {
   "cell_type": "code",
   "execution_count": 9,
   "metadata": {},
   "outputs": [
    {
     "data": {
      "text/html": [
       "<pre style=\"white-space:pre;overflow-x:auto;line-height:normal;font-family:Menlo,'DejaVu Sans Mono',consolas,'Courier New',monospace\">╭──────────────────────────────────────────────── skimpy summary ─────────────────────────────────────────────────╮\n",
       "│ <span style=\"font-style: italic\">         Data Summary         </span> <span style=\"font-style: italic\">      Data Types       </span>                                                          │\n",
       "│ ┏━━━━━━━━━━━━━━━━━━━┳━━━━━━━━┓ ┏━━━━━━━━━━━━━┳━━━━━━━┓                                                          │\n",
       "│ ┃<span style=\"color: #008080; text-decoration-color: #008080; font-weight: bold\"> dataframe         </span>┃<span style=\"color: #008080; text-decoration-color: #008080; font-weight: bold\"> Values </span>┃ ┃<span style=\"color: #008080; text-decoration-color: #008080; font-weight: bold\"> Column Type </span>┃<span style=\"color: #008080; text-decoration-color: #008080; font-weight: bold\"> Count </span>┃                                                          │\n",
       "│ ┡━━━━━━━━━━━━━━━━━━━╇━━━━━━━━┩ ┡━━━━━━━━━━━━━╇━━━━━━━┩                                                          │\n",
       "│ │ Number of rows    │ 22275  │ │ string      │ 5     │                                                          │\n",
       "│ │ Number of columns │ 7      │ │ datetime64  │ 1     │                                                          │\n",
       "│ └───────────────────┴────────┘ │ int64       │ 1     │                                                          │\n",
       "│                                └─────────────┴───────┘                                                          │\n",
       "│ <span style=\"font-style: italic\">                                                    number                                                    </span>  │\n",
       "│ ┏━━━━━━━━━━━━━━━━━━━━━━┳━━━━━━━┳━━━━━━━━━━┳━━━━━━━━━━┳━━━━━━━┳━━━━━━━┳━━━━━━━━┳━━━━━━━━┳━━━━━━━━━┳━━━━━━━━━━━┓  │\n",
       "│ ┃<span style=\"font-weight: bold\"> column_name          </span>┃<span style=\"font-weight: bold\"> NA    </span>┃<span style=\"font-weight: bold\"> NA %     </span>┃<span style=\"font-weight: bold\"> mean     </span>┃<span style=\"font-weight: bold\"> sd    </span>┃<span style=\"font-weight: bold\"> p0    </span>┃<span style=\"font-weight: bold\"> p25    </span>┃<span style=\"font-weight: bold\"> p75    </span>┃<span style=\"font-weight: bold\"> p100    </span>┃<span style=\"font-weight: bold\"> hist      </span>┃  │\n",
       "│ ┡━━━━━━━━━━━━━━━━━━━━━━╇━━━━━━━╇━━━━━━━━━━╇━━━━━━━━━━╇━━━━━━━╇━━━━━━━╇━━━━━━━━╇━━━━━━━━╇━━━━━━━━━╇━━━━━━━━━━━┩  │\n",
       "│ │ <span style=\"color: #af87ff; text-decoration-color: #af87ff\">event_id            </span> │ <span style=\"color: #008080; text-decoration-color: #008080\">    0</span> │ <span style=\"color: #008080; text-decoration-color: #008080\">       0</span> │ <span style=\"color: #008080; text-decoration-color: #008080\">      16</span> │ <span style=\"color: #008080; text-decoration-color: #008080\">    9</span> │ <span style=\"color: #008080; text-decoration-color: #008080\">    1</span> │ <span style=\"color: #008080; text-decoration-color: #008080\">     9</span> │ <span style=\"color: #008080; text-decoration-color: #008080\">    24</span> │ <span style=\"color: #008080; text-decoration-color: #008080\">     34</span> │ <span style=\"color: #008000; text-decoration-color: #008000\"> ▆▇█▆▇▄  </span> │  │\n",
       "│ └──────────────────────┴───────┴──────────┴──────────┴───────┴───────┴────────┴────────┴─────────┴───────────┘  │\n",
       "│ <span style=\"font-style: italic\">                                                   datetime                                                   </span>  │\n",
       "│ ┏━━━━━━━━━━━━━━━━━━━┳━━━━━━┳━━━━━━━━┳━━━━━━━━━━━━━━━━━━━━━━━━━━━━┳━━━━━━━━━━━━━━━━━━━━━━━━━━━━┳━━━━━━━━━━━━━━┓  │\n",
       "│ ┃<span style=\"font-weight: bold\"> column_name       </span>┃<span style=\"font-weight: bold\"> NA   </span>┃<span style=\"font-weight: bold\"> NA %   </span>┃<span style=\"font-weight: bold\"> first                      </span>┃<span style=\"font-weight: bold\"> last                       </span>┃<span style=\"font-weight: bold\"> frequency    </span>┃  │\n",
       "│ ┡━━━━━━━━━━━━━━━━━━━╇━━━━━━╇━━━━━━━━╇━━━━━━━━━━━━━━━━━━━━━━━━━━━━╇━━━━━━━━━━━━━━━━━━━━━━━━━━━━╇━━━━━━━━━━━━━━┩  │\n",
       "│ │ <span style=\"color: #af87ff; text-decoration-color: #af87ff\">request_time     </span> │ <span style=\"color: #008080; text-decoration-color: #008080\">   0</span> │ <span style=\"color: #008080; text-decoration-color: #008080\">     0</span> │ <span style=\"color: #800000; text-decoration-color: #800000\">   2022-09-13 00:10:27.   </span> │ <span style=\"color: #800000; text-decoration-color: #800000\">   2022-09-13 09:41:15.   </span> │ <span style=\"color: #af87ff; text-decoration-color: #af87ff\">None        </span> │  │\n",
       "│ └───────────────────┴──────┴────────┴────────────────────────────┴────────────────────────────┴──────────────┘  │\n",
       "│ <span style=\"font-style: italic\">                                                    string                                                    </span>  │\n",
       "│ ┏━━━━━━━━━━━━━━━━━━━━━━━━━━━━━━━┳━━━━━━━━┳━━━━━━━━━━━━┳━━━━━━━━━━━━━━━━━━━━━━━━━━━━━┳━━━━━━━━━━━━━━━━━━━━━━━━┓  │\n",
       "│ ┃<span style=\"font-weight: bold\"> column_name                   </span>┃<span style=\"font-weight: bold\"> NA     </span>┃<span style=\"font-weight: bold\"> NA %       </span>┃<span style=\"font-weight: bold\"> words per row               </span>┃<span style=\"font-weight: bold\"> total words            </span>┃  │\n",
       "│ ┡━━━━━━━━━━━━━━━━━━━━━━━━━━━━━━━╇━━━━━━━━╇━━━━━━━━━━━━╇━━━━━━━━━━━━━━━━━━━━━━━━━━━━━╇━━━━━━━━━━━━━━━━━━━━━━━━┩  │\n",
       "│ │ <span style=\"color: #af87ff; text-decoration-color: #af87ff\">forecastMarker               </span> │ <span style=\"color: #008080; text-decoration-color: #008080\">     0</span> │ <span style=\"color: #008080; text-decoration-color: #008080\">         0</span> │ <span style=\"color: #008080; text-decoration-color: #008080\">                          1</span> │ <span style=\"color: #008080; text-decoration-color: #008080\">                 23000</span> │  │\n",
       "│ │ <span style=\"color: #af87ff; text-decoration-color: #af87ff\">sender                       </span> │ <span style=\"color: #008080; text-decoration-color: #008080\">     0</span> │ <span style=\"color: #008080; text-decoration-color: #008080\">         0</span> │ <span style=\"color: #008080; text-decoration-color: #008080\">                          1</span> │ <span style=\"color: #008080; text-decoration-color: #008080\">                 23000</span> │  │\n",
       "│ │ <span style=\"color: #af87ff; text-decoration-color: #af87ff\">context                      </span> │ <span style=\"color: #008080; text-decoration-color: #008080\">     0</span> │ <span style=\"color: #008080; text-decoration-color: #008080\">         0</span> │ <span style=\"color: #008080; text-decoration-color: #008080\">                          1</span> │ <span style=\"color: #008080; text-decoration-color: #008080\">                 23000</span> │  │\n",
       "│ │ <span style=\"color: #af87ff; text-decoration-color: #af87ff\">session_id                   </span> │ <span style=\"color: #008080; text-decoration-color: #008080\">     0</span> │ <span style=\"color: #008080; text-decoration-color: #008080\">         0</span> │ <span style=\"color: #008080; text-decoration-color: #008080\">                          1</span> │ <span style=\"color: #008080; text-decoration-color: #008080\">                 23000</span> │  │\n",
       "│ │ <span style=\"color: #af87ff; text-decoration-color: #af87ff\">event_name                   </span> │ <span style=\"color: #008080; text-decoration-color: #008080\">     0</span> │ <span style=\"color: #008080; text-decoration-color: #008080\">         0</span> │ <span style=\"color: #008080; text-decoration-color: #008080\">                          1</span> │ <span style=\"color: #008080; text-decoration-color: #008080\">                 23000</span> │  │\n",
       "│ └───────────────────────────────┴────────┴────────────┴─────────────────────────────┴────────────────────────┘  │\n",
       "╰────────────────────────────────────────────────────── End ──────────────────────────────────────────────────────╯\n",
       "</pre>\n"
      ],
      "text/plain": [
       "╭──────────────────────────────────────────────── skimpy summary ─────────────────────────────────────────────────╮\n",
       "│ \u001b[3m         Data Summary         \u001b[0m \u001b[3m      Data Types       \u001b[0m                                                          │\n",
       "│ ┏━━━━━━━━━━━━━━━━━━━┳━━━━━━━━┓ ┏━━━━━━━━━━━━━┳━━━━━━━┓                                                          │\n",
       "│ ┃\u001b[1;36m \u001b[0m\u001b[1;36mdataframe        \u001b[0m\u001b[1;36m \u001b[0m┃\u001b[1;36m \u001b[0m\u001b[1;36mValues\u001b[0m\u001b[1;36m \u001b[0m┃ ┃\u001b[1;36m \u001b[0m\u001b[1;36mColumn Type\u001b[0m\u001b[1;36m \u001b[0m┃\u001b[1;36m \u001b[0m\u001b[1;36mCount\u001b[0m\u001b[1;36m \u001b[0m┃                                                          │\n",
       "│ ┡━━━━━━━━━━━━━━━━━━━╇━━━━━━━━┩ ┡━━━━━━━━━━━━━╇━━━━━━━┩                                                          │\n",
       "│ │ Number of rows    │ 22275  │ │ string      │ 5     │                                                          │\n",
       "│ │ Number of columns │ 7      │ │ datetime64  │ 1     │                                                          │\n",
       "│ └───────────────────┴────────┘ │ int64       │ 1     │                                                          │\n",
       "│                                └─────────────┴───────┘                                                          │\n",
       "│ \u001b[3m                                                    number                                                    \u001b[0m  │\n",
       "│ ┏━━━━━━━━━━━━━━━━━━━━━━┳━━━━━━━┳━━━━━━━━━━┳━━━━━━━━━━┳━━━━━━━┳━━━━━━━┳━━━━━━━━┳━━━━━━━━┳━━━━━━━━━┳━━━━━━━━━━━┓  │\n",
       "│ ┃\u001b[1m \u001b[0m\u001b[1mcolumn_name         \u001b[0m\u001b[1m \u001b[0m┃\u001b[1m \u001b[0m\u001b[1mNA   \u001b[0m\u001b[1m \u001b[0m┃\u001b[1m \u001b[0m\u001b[1mNA %    \u001b[0m\u001b[1m \u001b[0m┃\u001b[1m \u001b[0m\u001b[1mmean    \u001b[0m\u001b[1m \u001b[0m┃\u001b[1m \u001b[0m\u001b[1msd   \u001b[0m\u001b[1m \u001b[0m┃\u001b[1m \u001b[0m\u001b[1mp0   \u001b[0m\u001b[1m \u001b[0m┃\u001b[1m \u001b[0m\u001b[1mp25   \u001b[0m\u001b[1m \u001b[0m┃\u001b[1m \u001b[0m\u001b[1mp75   \u001b[0m\u001b[1m \u001b[0m┃\u001b[1m \u001b[0m\u001b[1mp100   \u001b[0m\u001b[1m \u001b[0m┃\u001b[1m \u001b[0m\u001b[1mhist     \u001b[0m\u001b[1m \u001b[0m┃  │\n",
       "│ ┡━━━━━━━━━━━━━━━━━━━━━━╇━━━━━━━╇━━━━━━━━━━╇━━━━━━━━━━╇━━━━━━━╇━━━━━━━╇━━━━━━━━╇━━━━━━━━╇━━━━━━━━━╇━━━━━━━━━━━┩  │\n",
       "│ │ \u001b[38;5;141mevent_id            \u001b[0m │ \u001b[36m    0\u001b[0m │ \u001b[36m       0\u001b[0m │ \u001b[36m      16\u001b[0m │ \u001b[36m    9\u001b[0m │ \u001b[36m    1\u001b[0m │ \u001b[36m     9\u001b[0m │ \u001b[36m    24\u001b[0m │ \u001b[36m     34\u001b[0m │ \u001b[32m ▆▇█▆▇▄  \u001b[0m │  │\n",
       "│ └──────────────────────┴───────┴──────────┴──────────┴───────┴───────┴────────┴────────┴─────────┴───────────┘  │\n",
       "│ \u001b[3m                                                   datetime                                                   \u001b[0m  │\n",
       "│ ┏━━━━━━━━━━━━━━━━━━━┳━━━━━━┳━━━━━━━━┳━━━━━━━━━━━━━━━━━━━━━━━━━━━━┳━━━━━━━━━━━━━━━━━━━━━━━━━━━━┳━━━━━━━━━━━━━━┓  │\n",
       "│ ┃\u001b[1m \u001b[0m\u001b[1mcolumn_name      \u001b[0m\u001b[1m \u001b[0m┃\u001b[1m \u001b[0m\u001b[1mNA  \u001b[0m\u001b[1m \u001b[0m┃\u001b[1m \u001b[0m\u001b[1mNA %  \u001b[0m\u001b[1m \u001b[0m┃\u001b[1m \u001b[0m\u001b[1mfirst                     \u001b[0m\u001b[1m \u001b[0m┃\u001b[1m \u001b[0m\u001b[1mlast                      \u001b[0m\u001b[1m \u001b[0m┃\u001b[1m \u001b[0m\u001b[1mfrequency   \u001b[0m\u001b[1m \u001b[0m┃  │\n",
       "│ ┡━━━━━━━━━━━━━━━━━━━╇━━━━━━╇━━━━━━━━╇━━━━━━━━━━━━━━━━━━━━━━━━━━━━╇━━━━━━━━━━━━━━━━━━━━━━━━━━━━╇━━━━━━━━━━━━━━┩  │\n",
       "│ │ \u001b[38;5;141mrequest_time     \u001b[0m │ \u001b[36m   0\u001b[0m │ \u001b[36m     0\u001b[0m │ \u001b[31m   2022-09-13 00:10:27.   \u001b[0m │ \u001b[31m   2022-09-13 09:41:15.   \u001b[0m │ \u001b[38;5;141mNone        \u001b[0m │  │\n",
       "│ └───────────────────┴──────┴────────┴────────────────────────────┴────────────────────────────┴──────────────┘  │\n",
       "│ \u001b[3m                                                    string                                                    \u001b[0m  │\n",
       "│ ┏━━━━━━━━━━━━━━━━━━━━━━━━━━━━━━━┳━━━━━━━━┳━━━━━━━━━━━━┳━━━━━━━━━━━━━━━━━━━━━━━━━━━━━┳━━━━━━━━━━━━━━━━━━━━━━━━┓  │\n",
       "│ ┃\u001b[1m \u001b[0m\u001b[1mcolumn_name                  \u001b[0m\u001b[1m \u001b[0m┃\u001b[1m \u001b[0m\u001b[1mNA    \u001b[0m\u001b[1m \u001b[0m┃\u001b[1m \u001b[0m\u001b[1mNA %      \u001b[0m\u001b[1m \u001b[0m┃\u001b[1m \u001b[0m\u001b[1mwords per row              \u001b[0m\u001b[1m \u001b[0m┃\u001b[1m \u001b[0m\u001b[1mtotal words           \u001b[0m\u001b[1m \u001b[0m┃  │\n",
       "│ ┡━━━━━━━━━━━━━━━━━━━━━━━━━━━━━━━╇━━━━━━━━╇━━━━━━━━━━━━╇━━━━━━━━━━━━━━━━━━━━━━━━━━━━━╇━━━━━━━━━━━━━━━━━━━━━━━━┩  │\n",
       "│ │ \u001b[38;5;141mforecastMarker               \u001b[0m │ \u001b[36m     0\u001b[0m │ \u001b[36m         0\u001b[0m │ \u001b[36m                          1\u001b[0m │ \u001b[36m                 23000\u001b[0m │  │\n",
       "│ │ \u001b[38;5;141msender                       \u001b[0m │ \u001b[36m     0\u001b[0m │ \u001b[36m         0\u001b[0m │ \u001b[36m                          1\u001b[0m │ \u001b[36m                 23000\u001b[0m │  │\n",
       "│ │ \u001b[38;5;141mcontext                      \u001b[0m │ \u001b[36m     0\u001b[0m │ \u001b[36m         0\u001b[0m │ \u001b[36m                          1\u001b[0m │ \u001b[36m                 23000\u001b[0m │  │\n",
       "│ │ \u001b[38;5;141msession_id                   \u001b[0m │ \u001b[36m     0\u001b[0m │ \u001b[36m         0\u001b[0m │ \u001b[36m                          1\u001b[0m │ \u001b[36m                 23000\u001b[0m │  │\n",
       "│ │ \u001b[38;5;141mevent_name                   \u001b[0m │ \u001b[36m     0\u001b[0m │ \u001b[36m         0\u001b[0m │ \u001b[36m                          1\u001b[0m │ \u001b[36m                 23000\u001b[0m │  │\n",
       "│ └───────────────────────────────┴────────┴────────────┴─────────────────────────────┴────────────────────────┘  │\n",
       "╰────────────────────────────────────────────────────── End ──────────────────────────────────────────────────────╯\n"
      ]
     },
     "metadata": {},
     "output_type": "display_data"
    }
   ],
   "source": [
    "skim(df_13)"
   ]
  },
  {
   "cell_type": "code",
   "execution_count": 10,
   "metadata": {},
   "outputs": [
    {
     "data": {
      "text/html": [
       "<pre style=\"white-space:pre;overflow-x:auto;line-height:normal;font-family:Menlo,'DejaVu Sans Mono',consolas,'Courier New',monospace\">╭──────────────────────────────────────────────── skimpy summary ─────────────────────────────────────────────────╮\n",
       "│ <span style=\"font-style: italic\">         Data Summary         </span> <span style=\"font-style: italic\">      Data Types       </span>                                                          │\n",
       "│ ┏━━━━━━━━━━━━━━━━━━━┳━━━━━━━━┓ ┏━━━━━━━━━━━━━┳━━━━━━━┓                                                          │\n",
       "│ ┃<span style=\"color: #008080; text-decoration-color: #008080; font-weight: bold\"> dataframe         </span>┃<span style=\"color: #008080; text-decoration-color: #008080; font-weight: bold\"> Values </span>┃ ┃<span style=\"color: #008080; text-decoration-color: #008080; font-weight: bold\"> Column Type </span>┃<span style=\"color: #008080; text-decoration-color: #008080; font-weight: bold\"> Count </span>┃                                                          │\n",
       "│ ┡━━━━━━━━━━━━━━━━━━━╇━━━━━━━━┩ ┡━━━━━━━━━━━━━╇━━━━━━━┩                                                          │\n",
       "│ │ Number of rows    │ 11249  │ │ string      │ 5     │                                                          │\n",
       "│ │ Number of columns │ 7      │ │ datetime64  │ 1     │                                                          │\n",
       "│ └───────────────────┴────────┘ │ int64       │ 1     │                                                          │\n",
       "│                                └─────────────┴───────┘                                                          │\n",
       "│ <span style=\"font-style: italic\">                                                    number                                                    </span>  │\n",
       "│ ┏━━━━━━━━━━━━━━━━━━━━━┳━━━━━━━┳━━━━━━━━━━┳━━━━━━━━━━┳━━━━━━━━┳━━━━━━━┳━━━━━━━━┳━━━━━━━━┳━━━━━━━━━┳━━━━━━━━━━━┓  │\n",
       "│ ┃<span style=\"font-weight: bold\"> column_name         </span>┃<span style=\"font-weight: bold\"> NA    </span>┃<span style=\"font-weight: bold\"> NA %     </span>┃<span style=\"font-weight: bold\"> mean     </span>┃<span style=\"font-weight: bold\"> sd     </span>┃<span style=\"font-weight: bold\"> p0    </span>┃<span style=\"font-weight: bold\"> p25    </span>┃<span style=\"font-weight: bold\"> p75    </span>┃<span style=\"font-weight: bold\"> p100    </span>┃<span style=\"font-weight: bold\"> hist      </span>┃  │\n",
       "│ ┡━━━━━━━━━━━━━━━━━━━━━╇━━━━━━━╇━━━━━━━━━━╇━━━━━━━━━━╇━━━━━━━━╇━━━━━━━╇━━━━━━━━╇━━━━━━━━╇━━━━━━━━━╇━━━━━━━━━━━┩  │\n",
       "│ │ <span style=\"color: #af87ff; text-decoration-color: #af87ff\">event_id           </span> │ <span style=\"color: #008080; text-decoration-color: #008080\">    0</span> │ <span style=\"color: #008080; text-decoration-color: #008080\">       0</span> │ <span style=\"color: #008080; text-decoration-color: #008080\">      15</span> │ <span style=\"color: #008080; text-decoration-color: #008080\">   8.5</span> │ <span style=\"color: #008080; text-decoration-color: #008080\">    1</span> │ <span style=\"color: #008080; text-decoration-color: #008080\">     8</span> │ <span style=\"color: #008080; text-decoration-color: #008080\">    23</span> │ <span style=\"color: #008080; text-decoration-color: #008080\">     31</span> │ <span style=\"color: #008000; text-decoration-color: #008000\"> ▆███▅▆  </span> │  │\n",
       "│ └─────────────────────┴───────┴──────────┴──────────┴────────┴───────┴────────┴────────┴─────────┴───────────┘  │\n",
       "│ <span style=\"font-style: italic\">                                                   datetime                                                   </span>  │\n",
       "│ ┏━━━━━━━━━━━━━━━━━━━┳━━━━━━┳━━━━━━━━┳━━━━━━━━━━━━━━━━━━━━━━━━━━━━┳━━━━━━━━━━━━━━━━━━━━━━━━━━━━┳━━━━━━━━━━━━━━┓  │\n",
       "│ ┃<span style=\"font-weight: bold\"> column_name       </span>┃<span style=\"font-weight: bold\"> NA   </span>┃<span style=\"font-weight: bold\"> NA %   </span>┃<span style=\"font-weight: bold\"> first                      </span>┃<span style=\"font-weight: bold\"> last                       </span>┃<span style=\"font-weight: bold\"> frequency    </span>┃  │\n",
       "│ ┡━━━━━━━━━━━━━━━━━━━╇━━━━━━╇━━━━━━━━╇━━━━━━━━━━━━━━━━━━━━━━━━━━━━╇━━━━━━━━━━━━━━━━━━━━━━━━━━━━╇━━━━━━━━━━━━━━┩  │\n",
       "│ │ <span style=\"color: #af87ff; text-decoration-color: #af87ff\">request_time     </span> │ <span style=\"color: #008080; text-decoration-color: #008080\">   0</span> │ <span style=\"color: #008080; text-decoration-color: #008080\">     0</span> │ <span style=\"color: #800000; text-decoration-color: #800000\">   2022-09-14 00:09:39.   </span> │ <span style=\"color: #800000; text-decoration-color: #800000\">   2022-09-14 06:07:47.   </span> │ <span style=\"color: #af87ff; text-decoration-color: #af87ff\">None        </span> │  │\n",
       "│ └───────────────────┴──────┴────────┴────────────────────────────┴────────────────────────────┴──────────────┘  │\n",
       "│ <span style=\"font-style: italic\">                                                    string                                                    </span>  │\n",
       "│ ┏━━━━━━━━━━━━━━━━━━━━━━━━━━━━━━━┳━━━━━━━━┳━━━━━━━━━━━━┳━━━━━━━━━━━━━━━━━━━━━━━━━━━━━┳━━━━━━━━━━━━━━━━━━━━━━━━┓  │\n",
       "│ ┃<span style=\"font-weight: bold\"> column_name                   </span>┃<span style=\"font-weight: bold\"> NA     </span>┃<span style=\"font-weight: bold\"> NA %       </span>┃<span style=\"font-weight: bold\"> words per row               </span>┃<span style=\"font-weight: bold\"> total words            </span>┃  │\n",
       "│ ┡━━━━━━━━━━━━━━━━━━━━━━━━━━━━━━━╇━━━━━━━━╇━━━━━━━━━━━━╇━━━━━━━━━━━━━━━━━━━━━━━━━━━━━╇━━━━━━━━━━━━━━━━━━━━━━━━┩  │\n",
       "│ │ <span style=\"color: #af87ff; text-decoration-color: #af87ff\">forecastMarker               </span> │ <span style=\"color: #008080; text-decoration-color: #008080\">     0</span> │ <span style=\"color: #008080; text-decoration-color: #008080\">         0</span> │ <span style=\"color: #008080; text-decoration-color: #008080\">                          1</span> │ <span style=\"color: #008080; text-decoration-color: #008080\">                 12000</span> │  │\n",
       "│ │ <span style=\"color: #af87ff; text-decoration-color: #af87ff\">sender                       </span> │ <span style=\"color: #008080; text-decoration-color: #008080\">     0</span> │ <span style=\"color: #008080; text-decoration-color: #008080\">         0</span> │ <span style=\"color: #008080; text-decoration-color: #008080\">                          1</span> │ <span style=\"color: #008080; text-decoration-color: #008080\">                 12000</span> │  │\n",
       "│ │ <span style=\"color: #af87ff; text-decoration-color: #af87ff\">context                      </span> │ <span style=\"color: #008080; text-decoration-color: #008080\">     0</span> │ <span style=\"color: #008080; text-decoration-color: #008080\">         0</span> │ <span style=\"color: #008080; text-decoration-color: #008080\">                          1</span> │ <span style=\"color: #008080; text-decoration-color: #008080\">                 12000</span> │  │\n",
       "│ │ <span style=\"color: #af87ff; text-decoration-color: #af87ff\">session_id                   </span> │ <span style=\"color: #008080; text-decoration-color: #008080\">     0</span> │ <span style=\"color: #008080; text-decoration-color: #008080\">         0</span> │ <span style=\"color: #008080; text-decoration-color: #008080\">                          1</span> │ <span style=\"color: #008080; text-decoration-color: #008080\">                 12000</span> │  │\n",
       "│ │ <span style=\"color: #af87ff; text-decoration-color: #af87ff\">event_name                   </span> │ <span style=\"color: #008080; text-decoration-color: #008080\">     0</span> │ <span style=\"color: #008080; text-decoration-color: #008080\">         0</span> │ <span style=\"color: #008080; text-decoration-color: #008080\">                          1</span> │ <span style=\"color: #008080; text-decoration-color: #008080\">                 12000</span> │  │\n",
       "│ └───────────────────────────────┴────────┴────────────┴─────────────────────────────┴────────────────────────┘  │\n",
       "╰────────────────────────────────────────────────────── End ──────────────────────────────────────────────────────╯\n",
       "</pre>\n"
      ],
      "text/plain": [
       "╭──────────────────────────────────────────────── skimpy summary ─────────────────────────────────────────────────╮\n",
       "│ \u001b[3m         Data Summary         \u001b[0m \u001b[3m      Data Types       \u001b[0m                                                          │\n",
       "│ ┏━━━━━━━━━━━━━━━━━━━┳━━━━━━━━┓ ┏━━━━━━━━━━━━━┳━━━━━━━┓                                                          │\n",
       "│ ┃\u001b[1;36m \u001b[0m\u001b[1;36mdataframe        \u001b[0m\u001b[1;36m \u001b[0m┃\u001b[1;36m \u001b[0m\u001b[1;36mValues\u001b[0m\u001b[1;36m \u001b[0m┃ ┃\u001b[1;36m \u001b[0m\u001b[1;36mColumn Type\u001b[0m\u001b[1;36m \u001b[0m┃\u001b[1;36m \u001b[0m\u001b[1;36mCount\u001b[0m\u001b[1;36m \u001b[0m┃                                                          │\n",
       "│ ┡━━━━━━━━━━━━━━━━━━━╇━━━━━━━━┩ ┡━━━━━━━━━━━━━╇━━━━━━━┩                                                          │\n",
       "│ │ Number of rows    │ 11249  │ │ string      │ 5     │                                                          │\n",
       "│ │ Number of columns │ 7      │ │ datetime64  │ 1     │                                                          │\n",
       "│ └───────────────────┴────────┘ │ int64       │ 1     │                                                          │\n",
       "│                                └─────────────┴───────┘                                                          │\n",
       "│ \u001b[3m                                                    number                                                    \u001b[0m  │\n",
       "│ ┏━━━━━━━━━━━━━━━━━━━━━┳━━━━━━━┳━━━━━━━━━━┳━━━━━━━━━━┳━━━━━━━━┳━━━━━━━┳━━━━━━━━┳━━━━━━━━┳━━━━━━━━━┳━━━━━━━━━━━┓  │\n",
       "│ ┃\u001b[1m \u001b[0m\u001b[1mcolumn_name        \u001b[0m\u001b[1m \u001b[0m┃\u001b[1m \u001b[0m\u001b[1mNA   \u001b[0m\u001b[1m \u001b[0m┃\u001b[1m \u001b[0m\u001b[1mNA %    \u001b[0m\u001b[1m \u001b[0m┃\u001b[1m \u001b[0m\u001b[1mmean    \u001b[0m\u001b[1m \u001b[0m┃\u001b[1m \u001b[0m\u001b[1msd    \u001b[0m\u001b[1m \u001b[0m┃\u001b[1m \u001b[0m\u001b[1mp0   \u001b[0m\u001b[1m \u001b[0m┃\u001b[1m \u001b[0m\u001b[1mp25   \u001b[0m\u001b[1m \u001b[0m┃\u001b[1m \u001b[0m\u001b[1mp75   \u001b[0m\u001b[1m \u001b[0m┃\u001b[1m \u001b[0m\u001b[1mp100   \u001b[0m\u001b[1m \u001b[0m┃\u001b[1m \u001b[0m\u001b[1mhist     \u001b[0m\u001b[1m \u001b[0m┃  │\n",
       "│ ┡━━━━━━━━━━━━━━━━━━━━━╇━━━━━━━╇━━━━━━━━━━╇━━━━━━━━━━╇━━━━━━━━╇━━━━━━━╇━━━━━━━━╇━━━━━━━━╇━━━━━━━━━╇━━━━━━━━━━━┩  │\n",
       "│ │ \u001b[38;5;141mevent_id           \u001b[0m │ \u001b[36m    0\u001b[0m │ \u001b[36m       0\u001b[0m │ \u001b[36m      15\u001b[0m │ \u001b[36m   8.5\u001b[0m │ \u001b[36m    1\u001b[0m │ \u001b[36m     8\u001b[0m │ \u001b[36m    23\u001b[0m │ \u001b[36m     31\u001b[0m │ \u001b[32m ▆███▅▆  \u001b[0m │  │\n",
       "│ └─────────────────────┴───────┴──────────┴──────────┴────────┴───────┴────────┴────────┴─────────┴───────────┘  │\n",
       "│ \u001b[3m                                                   datetime                                                   \u001b[0m  │\n",
       "│ ┏━━━━━━━━━━━━━━━━━━━┳━━━━━━┳━━━━━━━━┳━━━━━━━━━━━━━━━━━━━━━━━━━━━━┳━━━━━━━━━━━━━━━━━━━━━━━━━━━━┳━━━━━━━━━━━━━━┓  │\n",
       "│ ┃\u001b[1m \u001b[0m\u001b[1mcolumn_name      \u001b[0m\u001b[1m \u001b[0m┃\u001b[1m \u001b[0m\u001b[1mNA  \u001b[0m\u001b[1m \u001b[0m┃\u001b[1m \u001b[0m\u001b[1mNA %  \u001b[0m\u001b[1m \u001b[0m┃\u001b[1m \u001b[0m\u001b[1mfirst                     \u001b[0m\u001b[1m \u001b[0m┃\u001b[1m \u001b[0m\u001b[1mlast                      \u001b[0m\u001b[1m \u001b[0m┃\u001b[1m \u001b[0m\u001b[1mfrequency   \u001b[0m\u001b[1m \u001b[0m┃  │\n",
       "│ ┡━━━━━━━━━━━━━━━━━━━╇━━━━━━╇━━━━━━━━╇━━━━━━━━━━━━━━━━━━━━━━━━━━━━╇━━━━━━━━━━━━━━━━━━━━━━━━━━━━╇━━━━━━━━━━━━━━┩  │\n",
       "│ │ \u001b[38;5;141mrequest_time     \u001b[0m │ \u001b[36m   0\u001b[0m │ \u001b[36m     0\u001b[0m │ \u001b[31m   2022-09-14 00:09:39.   \u001b[0m │ \u001b[31m   2022-09-14 06:07:47.   \u001b[0m │ \u001b[38;5;141mNone        \u001b[0m │  │\n",
       "│ └───────────────────┴──────┴────────┴────────────────────────────┴────────────────────────────┴──────────────┘  │\n",
       "│ \u001b[3m                                                    string                                                    \u001b[0m  │\n",
       "│ ┏━━━━━━━━━━━━━━━━━━━━━━━━━━━━━━━┳━━━━━━━━┳━━━━━━━━━━━━┳━━━━━━━━━━━━━━━━━━━━━━━━━━━━━┳━━━━━━━━━━━━━━━━━━━━━━━━┓  │\n",
       "│ ┃\u001b[1m \u001b[0m\u001b[1mcolumn_name                  \u001b[0m\u001b[1m \u001b[0m┃\u001b[1m \u001b[0m\u001b[1mNA    \u001b[0m\u001b[1m \u001b[0m┃\u001b[1m \u001b[0m\u001b[1mNA %      \u001b[0m\u001b[1m \u001b[0m┃\u001b[1m \u001b[0m\u001b[1mwords per row              \u001b[0m\u001b[1m \u001b[0m┃\u001b[1m \u001b[0m\u001b[1mtotal words           \u001b[0m\u001b[1m \u001b[0m┃  │\n",
       "│ ┡━━━━━━━━━━━━━━━━━━━━━━━━━━━━━━━╇━━━━━━━━╇━━━━━━━━━━━━╇━━━━━━━━━━━━━━━━━━━━━━━━━━━━━╇━━━━━━━━━━━━━━━━━━━━━━━━┩  │\n",
       "│ │ \u001b[38;5;141mforecastMarker               \u001b[0m │ \u001b[36m     0\u001b[0m │ \u001b[36m         0\u001b[0m │ \u001b[36m                          1\u001b[0m │ \u001b[36m                 12000\u001b[0m │  │\n",
       "│ │ \u001b[38;5;141msender                       \u001b[0m │ \u001b[36m     0\u001b[0m │ \u001b[36m         0\u001b[0m │ \u001b[36m                          1\u001b[0m │ \u001b[36m                 12000\u001b[0m │  │\n",
       "│ │ \u001b[38;5;141mcontext                      \u001b[0m │ \u001b[36m     0\u001b[0m │ \u001b[36m         0\u001b[0m │ \u001b[36m                          1\u001b[0m │ \u001b[36m                 12000\u001b[0m │  │\n",
       "│ │ \u001b[38;5;141msession_id                   \u001b[0m │ \u001b[36m     0\u001b[0m │ \u001b[36m         0\u001b[0m │ \u001b[36m                          1\u001b[0m │ \u001b[36m                 12000\u001b[0m │  │\n",
       "│ │ \u001b[38;5;141mevent_name                   \u001b[0m │ \u001b[36m     0\u001b[0m │ \u001b[36m         0\u001b[0m │ \u001b[36m                          1\u001b[0m │ \u001b[36m                 12000\u001b[0m │  │\n",
       "│ └───────────────────────────────┴────────┴────────────┴─────────────────────────────┴────────────────────────┘  │\n",
       "╰────────────────────────────────────────────────────── End ──────────────────────────────────────────────────────╯\n"
      ]
     },
     "metadata": {},
     "output_type": "display_data"
    }
   ],
   "source": [
    "skim(df_14)"
   ]
  },
  {
   "cell_type": "markdown",
   "metadata": {},
   "source": [
    "Отсортируем весь датасет по времени запросов, для сохранения хронологии событий"
   ]
  },
  {
   "cell_type": "code",
   "execution_count": 11,
   "metadata": {},
   "outputs": [],
   "source": [
    "df = df.sort_values(by='request_time')"
   ]
  },
  {
   "cell_type": "markdown",
   "metadata": {},
   "source": [
    "## 1. Рассчет наибольшего шага между событиями"
   ]
  },
  {
   "cell_type": "markdown",
   "metadata": {},
   "source": [
    "Для начала рассчитаем для всех событий, сколько потребовалось времени от вызова предыдущей задачи до следующей"
   ]
  },
  {
   "cell_type": "code",
   "execution_count": 12,
   "metadata": {},
   "outputs": [],
   "source": [
    "df['shift'] = df['request_time'] - df['request_time'].shift()"
   ]
  },
  {
   "cell_type": "code",
   "execution_count": 13,
   "metadata": {},
   "outputs": [
    {
     "data": {
      "text/html": [
       "<div>\n",
       "<style scoped>\n",
       "    .dataframe tbody tr th:only-of-type {\n",
       "        vertical-align: middle;\n",
       "    }\n",
       "\n",
       "    .dataframe tbody tr th {\n",
       "        vertical-align: top;\n",
       "    }\n",
       "\n",
       "    .dataframe thead th {\n",
       "        text-align: right;\n",
       "    }\n",
       "</style>\n",
       "<table border=\"1\" class=\"dataframe\">\n",
       "  <thead>\n",
       "    <tr style=\"text-align: right;\">\n",
       "      <th></th>\n",
       "      <th>index</th>\n",
       "      <th>forecastMarker</th>\n",
       "      <th>request_time</th>\n",
       "      <th>event_id</th>\n",
       "      <th>sender</th>\n",
       "      <th>context</th>\n",
       "      <th>session_id</th>\n",
       "      <th>event_name</th>\n",
       "      <th>shift</th>\n",
       "    </tr>\n",
       "  </thead>\n",
       "  <tbody>\n",
       "    <tr>\n",
       "      <th>0</th>\n",
       "      <td>0</td>\n",
       "      <td>SelfService/RUS/turnover</td>\n",
       "      <td>2022-09-12 11:30:11.106628</td>\n",
       "      <td>1</td>\n",
       "      <td>test_system</td>\n",
       "      <td>df = &lt;class 'NoneType'&gt;, sql_query = &lt;class 'N...</td>\n",
       "      <td>6f4277f6df57c4f4e90779966522c876</td>\n",
       "      <td>Инициализируем свойства класса</td>\n",
       "      <td>NaT</td>\n",
       "    </tr>\n",
       "    <tr>\n",
       "      <th>1</th>\n",
       "      <td>1</td>\n",
       "      <td>SelfService/RUS/turnover</td>\n",
       "      <td>2022-09-12 11:30:11.111359</td>\n",
       "      <td>29</td>\n",
       "      <td>test_system</td>\n",
       "      <td>None</td>\n",
       "      <td>6f4277f6df57c4f4e90779966522c876</td>\n",
       "      <td>Начинаем получать гипермараметры и регрессоры</td>\n",
       "      <td>0 days 00:00:00.004731</td>\n",
       "    </tr>\n",
       "    <tr>\n",
       "      <th>2</th>\n",
       "      <td>2</td>\n",
       "      <td>SelfService/RUS/turnover</td>\n",
       "      <td>2022-09-12 11:30:11.115989</td>\n",
       "      <td>2</td>\n",
       "      <td>test_system</td>\n",
       "      <td>None</td>\n",
       "      <td>6f4277f6df57c4f4e90779966522c876</td>\n",
       "      <td>Переход в функцию getParametrsAndRegressors</td>\n",
       "      <td>0 days 00:00:00.004630</td>\n",
       "    </tr>\n",
       "    <tr>\n",
       "      <th>3</th>\n",
       "      <td>3</td>\n",
       "      <td>SelfService/RUS/turnover</td>\n",
       "      <td>2022-09-12 11:30:12.761754</td>\n",
       "      <td>3</td>\n",
       "      <td>test_system</td>\n",
       "      <td>Найдено 1 строк с параметрами</td>\n",
       "      <td>6f4277f6df57c4f4e90779966522c876</td>\n",
       "      <td>Выход из функции getParametrsAndRegressors с п...</td>\n",
       "      <td>0 days 00:00:01.645765</td>\n",
       "    </tr>\n",
       "    <tr>\n",
       "      <th>4</th>\n",
       "      <td>4</td>\n",
       "      <td>SelfService/RUS/turnover</td>\n",
       "      <td>2022-09-12 11:30:12.770134</td>\n",
       "      <td>5</td>\n",
       "      <td>test_system</td>\n",
       "      <td>None</td>\n",
       "      <td>6f4277f6df57c4f4e90779966522c876</td>\n",
       "      <td>Записали в свойства класса гиперпараметры и ре...</td>\n",
       "      <td>0 days 00:00:00.008380</td>\n",
       "    </tr>\n",
       "  </tbody>\n",
       "</table>\n",
       "</div>"
      ],
      "text/plain": [
       "   index            forecastMarker               request_time  event_id  \\\n",
       "0      0  SelfService/RUS/turnover 2022-09-12 11:30:11.106628         1   \n",
       "1      1  SelfService/RUS/turnover 2022-09-12 11:30:11.111359        29   \n",
       "2      2  SelfService/RUS/turnover 2022-09-12 11:30:11.115989         2   \n",
       "3      3  SelfService/RUS/turnover 2022-09-12 11:30:12.761754         3   \n",
       "4      4  SelfService/RUS/turnover 2022-09-12 11:30:12.770134         5   \n",
       "\n",
       "        sender                                            context  \\\n",
       "0  test_system  df = <class 'NoneType'>, sql_query = <class 'N...   \n",
       "1  test_system                                               None   \n",
       "2  test_system                                               None   \n",
       "3  test_system                      Найдено 1 строк с параметрами   \n",
       "4  test_system                                               None   \n",
       "\n",
       "                         session_id  \\\n",
       "0  6f4277f6df57c4f4e90779966522c876   \n",
       "1  6f4277f6df57c4f4e90779966522c876   \n",
       "2  6f4277f6df57c4f4e90779966522c876   \n",
       "3  6f4277f6df57c4f4e90779966522c876   \n",
       "4  6f4277f6df57c4f4e90779966522c876   \n",
       "\n",
       "                                          event_name                  shift  \n",
       "0                     Инициализируем свойства класса                    NaT  \n",
       "1      Начинаем получать гипермараметры и регрессоры 0 days 00:00:00.004731  \n",
       "2        Переход в функцию getParametrsAndRegressors 0 days 00:00:00.004630  \n",
       "3  Выход из функции getParametrsAndRegressors с п... 0 days 00:00:01.645765  \n",
       "4  Записали в свойства класса гиперпараметры и ре... 0 days 00:00:00.008380  "
      ]
     },
     "execution_count": 13,
     "metadata": {},
     "output_type": "execute_result"
    }
   ],
   "source": [
    "df.head()"
   ]
  },
  {
   "cell_type": "markdown",
   "metadata": {},
   "source": [
    "**Рассчет времени между событиями всего датасета**"
   ]
  },
  {
   "cell_type": "code",
   "execution_count": 14,
   "metadata": {},
   "outputs": [
    {
     "data": {
      "text/plain": [
       "31"
      ]
     },
     "execution_count": 14,
     "metadata": {},
     "output_type": "execute_result"
    }
   ],
   "source": [
    "df.iloc[df[df['shift'] == df['shift'].max()].index[0]-1]['event_id']"
   ]
  },
  {
   "cell_type": "code",
   "execution_count": 15,
   "metadata": {},
   "outputs": [
    {
     "data": {
      "text/plain": [
       "1"
      ]
     },
     "execution_count": 15,
     "metadata": {},
     "output_type": "execute_result"
    }
   ],
   "source": [
    "df.iloc[df[df['shift'] == df['shift'].max()].index[0]]['event_id']"
   ]
  },
  {
   "cell_type": "code",
   "execution_count": 16,
   "metadata": {},
   "outputs": [
    {
     "data": {
      "text/plain": [
       "index                                         22274\n",
       "forecastMarker    weekly_report.SS:no_segment_users\n",
       "request_time             2022-09-13 09:41:15.078643\n",
       "event_id                                         31\n",
       "sender                        test.weekly_report.ss\n",
       "context                   Отдан датафрейм: (895, 4)\n",
       "session_id         d637d1b6d2b70fd088e2ea44959483cb\n",
       "event_name                   JSON отправлен обратно\n",
       "shift                        0 days 00:00:00.006806\n",
       "Name: 33481, dtype: object"
      ]
     },
     "execution_count": 16,
     "metadata": {},
     "output_type": "execute_result"
    }
   ],
   "source": [
    "df.iloc[33481]"
   ]
  },
  {
   "cell_type": "code",
   "execution_count": 17,
   "metadata": {},
   "outputs": [
    {
     "data": {
      "text/plain": [
       "index                                                             0\n",
       "forecastMarker                                                 None\n",
       "request_time                             2022-09-14 00:09:39.234361\n",
       "event_id                                                          1\n",
       "sender                                                         None\n",
       "context           df = <class 'pandas.core.frame.DataFrame'>, sq...\n",
       "session_id                         ec6a82e4a1b9b4dc467639eb1a5d6987\n",
       "event_name                           Инициализируем свойства класса\n",
       "shift                                        0 days 14:28:24.155718\n",
       "Name: 33482, dtype: object"
      ]
     },
     "execution_count": 17,
     "metadata": {},
     "output_type": "execute_result"
    }
   ],
   "source": [
    "df.iloc[33482]"
   ]
  },
  {
   "cell_type": "markdown",
   "metadata": {},
   "source": [
    "**Рассчет времени события внутри сессий**"
   ]
  },
  {
   "cell_type": "markdown",
   "metadata": {},
   "source": [
    "Для рассчета максимального времени на шаг события - удалим из рассчета событие с `event_id` == 1 и найдем максимальное затраченное время внутри каждой сессии"
   ]
  },
  {
   "cell_type": "code",
   "execution_count": 18,
   "metadata": {},
   "outputs": [
    {
     "data": {
      "text/plain": [
       "index                                                          5742\n",
       "forecastMarker                  weekly_report.care:count_of_jivo_SA\n",
       "request_time                             2022-09-14 05:20:53.759918\n",
       "event_id                                                          6\n",
       "sender                                           weekly_report.care\n",
       "context                                                        None\n",
       "session_id                         4dcab2af4573ced8251fb7433174ba15\n",
       "event_name        Начинаем читать данные из BQ по полученному SQ...\n",
       "shift                                        0 days 00:00:00.005893\n",
       "Name: 39224, dtype: object"
      ]
     },
     "execution_count": 18,
     "metadata": {},
     "output_type": "execute_result"
    }
   ],
   "source": [
    "df.iloc[df[df['shift'] == df[df['event_id']!= 1]['shift'].max()].index[0]-1]"
   ]
  },
  {
   "cell_type": "code",
   "execution_count": 19,
   "metadata": {},
   "outputs": [
    {
     "data": {
      "text/plain": [
       "index                                                         5743\n",
       "forecastMarker                 weekly_report.care:count_of_jivo_SA\n",
       "request_time                            2022-09-14 05:22:40.308128\n",
       "event_id                                                         7\n",
       "sender                                          weekly_report.care\n",
       "context             Получили из BQ набор данных размером: (548, 2)\n",
       "session_id                        4dcab2af4573ced8251fb7433174ba15\n",
       "event_name        Получили данные из BQ по полученному SQL запросу\n",
       "shift                                       0 days 00:01:46.548210\n",
       "Name: 39225, dtype: object"
      ]
     },
     "execution_count": 19,
     "metadata": {},
     "output_type": "execute_result"
    }
   ],
   "source": [
    "\n",
    "df.iloc[df[df['shift'] == df[df['event_id']!= 1]['shift'].max()].index[0]]"
   ]
  },
  {
   "cell_type": "code",
   "execution_count": 20,
   "metadata": {},
   "outputs": [
    {
     "name": "stdout",
     "output_type": "stream",
     "text": [
      "0 days 00:01:46.548210\n"
     ]
    }
   ],
   "source": [
    "count = None\n",
    "bb = None\n",
    "max_lag = pd.Timedelta(0)\n",
    "\n",
    "for i in range(1, len(df['event_id'])):\n",
    "    if df['event_id'][i] != 1:\n",
    "        shift = df['request_time'][i] - df['request_time'][i-1]\n",
    "        if max_lag < shift:\n",
    "            max_lag = shift\n",
    "            bb = df.iloc[i]\n",
    "    if df['event_id'][i] == 1:\n",
    "        count = df['request_time'][i]\n",
    "        shift_2 = df['request_time'][i+1] - count\n",
    "        if max_lag < shift_2:\n",
    "            max_lag = shift_2\n",
    "            bb = df.iloc[i]\n",
    "print(max_lag)"
   ]
  },
  {
   "cell_type": "markdown",
   "metadata": {},
   "source": [
    "### 1. Вывод"
   ]
  },
  {
   "cell_type": "markdown",
   "metadata": {},
   "source": [
    "Очевидно, что самый большой интервал между последним и первым шагами разных дней:\n",
    "\n",
    "0 days 14:28:24.155718\n",
    "\n",
    "между `event_id` == 1 из лог файла 2022-09-14 и `event_id` == 31 лог файла 2022-09-13\n",
    "\n",
    "\n",
    "**Однако, если посмотреть внутри сессий**:\n",
    "\n",
    "Самый большой интервал показали:\n",
    "\n",
    "0 days 00:01:46.548210\n",
    "\n",
    "между `event_id` == 6 и `event_id` == 7 лог файла 2022-09-14"
   ]
  },
  {
   "cell_type": "markdown",
   "metadata": {},
   "source": [
    "## 2. Разброс интервала времени между событиями"
   ]
  },
  {
   "cell_type": "code",
   "execution_count": 21,
   "metadata": {},
   "outputs": [],
   "source": [
    "def time_shift(data_in):\n",
    "    data_out = data_in.copy()\n",
    "    data_out = data_out.sort_values(by='request_time')\n",
    "    data_out['shift'] = data_out['request_time'] - data_out['request_time'].shift()\n",
    "    data_out['shift_sec'] = data_out['shift'] / np.timedelta64(1, 's')\n",
    "    data_out = data_out[data_out['event_id'] != 1]\n",
    "\n",
    "    return data_out\n",
    "\n",
    "\n",
    "def step_disp(data_in):\n",
    "    max_dist = 0\n",
    "    longest_sender = ''\n",
    "    event_id = 0\n",
    "    event_name = ''\n",
    "\n",
    "    for i in data_in['sender'].unique():\n",
    "        sender = data_in[data_in['sender'] == i]\n",
    "        for j in sorted(data_in['event_id'].unique()):\n",
    "            dist = sender[sender['event_id'] == j]['shift_sec'].max() - sender[sender['event_id'] == j]['shift_sec'].min()\n",
    "            if dist > max_dist:\n",
    "                max_dist = dist\n",
    "                longest_sender = sender['sender'].unique()[0]\n",
    "                event_id = j\n",
    "                event_name = data_in[data_in['event_id'] == event_id]['event_name'].iloc[0]\n",
    "\n",
    "    return event_id, event_name, max_dist, longest_sender\n",
    "\n",
    "\n",
    "def print_disp(data_in):\n",
    "    event_id, event_name, max_dist, longest_sender = step_disp(data_in)\n",
    "    print(f'Ключ события: {event_id}')\n",
    "    print(f'Название события: {event_name}')\n",
    "    print(f'Величина разброса: {max_dist} секунд')\n",
    "    print(f'Имя отправителя: {longest_sender}')\n",
    "\n",
    "    data_in[data_in['sender'] == longest_sender].boxplot(by ='event_id', column ='shift_sec')"
   ]
  },
  {
   "cell_type": "code",
   "execution_count": 22,
   "metadata": {},
   "outputs": [
    {
     "name": "stdout",
     "output_type": "stream",
     "text": [
      "Ключ события: 7\n",
      "Название события: Получили данные из BQ по полученному SQL запросу\n",
      "Величина разброса: 48.737023 секунд\n",
      "Имя отправителя: weekly_report.care\n"
     ]
    },
    {
     "data": {
      "image/png": "[encoded data removed]",
      "text/plain": [
       "<Figure size 720x504 with 1 Axes>"
      ]
     },
     "metadata": {},
     "output_type": "display_data"
    }
   ],
   "source": [
    "df_12_shift = time_shift(df_12)\n",
    "print_disp(df_12_shift)"
   ]
  },
  {
   "cell_type": "code",
   "execution_count": 23,
   "metadata": {},
   "outputs": [
    {
     "name": "stdout",
     "output_type": "stream",
     "text": [
      "Ключ события: 7\n",
      "Название события: Получили данные из BQ по полученному SQL запросу\n",
      "Величина разброса: 62.559577999999995 секунд\n",
      "Имя отправителя: test.weekly_report.care\n"
     ]
    },
    {
     "data": {
      "image/png": "[encoded data removed]",
      "text/plain": [
       "<Figure size 720x504 with 1 Axes>"
      ]
     },
     "metadata": {},
     "output_type": "display_data"
    }
   ],
   "source": [
    "df_13_shift = time_shift(df_13)\n",
    "print_disp(df_13_shift)"
   ]
  },
  {
   "cell_type": "code",
   "execution_count": 24,
   "metadata": {},
   "outputs": [
    {
     "name": "stdout",
     "output_type": "stream",
     "text": [
      "Ключ события: 7\n",
      "Название события: Получили данные из BQ по полученному SQL запросу\n",
      "Величина разброса: 106.378547 секунд\n",
      "Имя отправителя: weekly_report.care\n"
     ]
    },
    {
     "data": {
      "image/png": "[encoded data removed]",
      "text/plain": [
       "<Figure size 720x504 with 1 Axes>"
      ]
     },
     "metadata": {},
     "output_type": "display_data"
    }
   ],
   "source": [
    "df_14_shift = time_shift(df_14)\n",
    "print_disp(df_14_shift)"
   ]
  },
  {
   "cell_type": "code",
   "execution_count": 25,
   "metadata": {},
   "outputs": [
    {
     "name": "stdout",
     "output_type": "stream",
     "text": [
      "Ключ события: 7\n",
      "Название события: Получили данные из BQ по полученному SQL запросу\n",
      "Величина разброса: 106.378547 секунд\n",
      "Имя отправителя: weekly_report.care\n"
     ]
    },
    {
     "data": {
      "image/png": "[encoded data removed]",
      "text/plain": [
       "<Figure size 720x504 with 1 Axes>"
      ]
     },
     "metadata": {},
     "output_type": "display_data"
    }
   ],
   "source": [
    "df_test = time_shift(df)\n",
    "print_disp(df_test)"
   ]
  },
  {
   "cell_type": "code",
   "execution_count": 26,
   "metadata": {},
   "outputs": [
    {
     "data": {
      "image/png": "[encoded data removed]",
      "text/plain": [
       "<Figure size 720x504 with 1 Axes>"
      ]
     },
     "metadata": {},
     "output_type": "display_data"
    }
   ],
   "source": [
    "mean_gr = df_test.groupby(\n",
    "    [df_test[\"event_id\"]])[\"shift_sec\"].mean().sort_values(ascending=False).head()\n",
    "median_gr = df_test.groupby(\n",
    "    [df_test[\"event_id\"]])[\"shift_sec\"].median().sort_values(ascending=False).head()\n",
    "\n",
    "m_1 = pd.DataFrame(mean_gr).reset_index()\n",
    "m_1['value'] = 'mean'\n",
    "m_2 = pd.DataFrame(median_gr).reset_index()\n",
    "m_2['value'] = 'median'\n",
    "\n",
    "joined = pd.concat([m_1, m_2])\n",
    "\n",
    "\n",
    "sns.barplot(x = \"event_id\", y = \"shift_sec\", hue = \"value\", data = joined, palette='Blues')\n",
    "plt.show()"
   ]
  },
  {
   "cell_type": "markdown",
   "metadata": {},
   "source": [
    "Посмотрим как это выглядит на графике"
   ]
  },
  {
   "cell_type": "code",
   "execution_count": 27,
   "metadata": {},
   "outputs": [
    {
     "data": {
      "text/plain": [
       "<AxesSubplot:title={'center':'shift_sec'}, xlabel='event_id'>"
      ]
     },
     "execution_count": 27,
     "metadata": {},
     "output_type": "execute_result"
    },
    {
     "data": {
      "image/png": "[encoded data removed]",
      "text/plain": [
       "<Figure size 720x504 with 1 Axes>"
      ]
     },
     "metadata": {},
     "output_type": "display_data"
    }
   ],
   "source": [
    "df_test[df_test['sender'] == 'weekly_report.care'].boxplot(by ='event_id', column ='shift_sec')"
   ]
  },
  {
   "cell_type": "markdown",
   "metadata": {},
   "source": [
    "**Вывод**\n",
    "\n",
    "Самый большой разброс затрат времени у задачи с идентификатором 7\n",
    "\n",
    "**Ключ события:** 7\n",
    "\n",
    "**Название события:** Получили данные из BQ по полученному SQL запросу\n",
    "\n",
    "**Величина разброса:** 106.378547 секунд\n",
    "\n",
    "**Имя отправителя:** weekly_report.care\n",
    "\n",
    "Вполне вероятно, что самый большой разброс у задачи получения данных из-за:\n",
    "\n",
    "- Не оптимальные SQL запросы\n",
    "- Сбои в соединении\n",
    "- Большой объем данных, тк выгружают недельную информацию"
   ]
  },
  {
   "cell_type": "markdown",
   "metadata": {},
   "source": [
    "## 3. Самая долгая задача"
   ]
  },
  {
   "cell_type": "code",
   "execution_count": 28,
   "metadata": {},
   "outputs": [],
   "source": [
    "longest_index = df_test.groupby(by='session_id').sum().sort_values(by='shift_sec', ascending=False).head(1).index"
   ]
  },
  {
   "cell_type": "code",
   "execution_count": 29,
   "metadata": {},
   "outputs": [
    {
     "data": {
      "text/plain": [
       "39220    weekly_report.care:count_of_jivo_SA\n",
       "Name: forecastMarker, dtype: object"
      ]
     },
     "execution_count": 29,
     "metadata": {},
     "output_type": "execute_result"
    }
   ],
   "source": [
    "df_test[df_test['session_id'] == longest_index[0]]['forecastMarker'].head(1)"
   ]
  },
  {
   "cell_type": "markdown",
   "metadata": {},
   "source": [
    "Посчитаем вместе с доп запросами и будем считать, что это одна задача"
   ]
  },
  {
   "cell_type": "code",
   "execution_count": 30,
   "metadata": {},
   "outputs": [],
   "source": [
    "s = df_test.copy()"
   ]
  },
  {
   "cell_type": "code",
   "execution_count": 31,
   "metadata": {},
   "outputs": [
    {
     "data": {
      "text/plain": [
       "'6f4277f6df57c4f4e90779966522c876'"
      ]
     },
     "execution_count": 31,
     "metadata": {},
     "output_type": "execute_result"
    }
   ],
   "source": [
    "s['session_split'] = s['sender'].apply(lambda x: x.split(' '))\n",
    "\n",
    "s['session_split'].iloc[25][-1:][0]"
   ]
  },
  {
   "cell_type": "code",
   "execution_count": 32,
   "metadata": {},
   "outputs": [
    {
     "data": {
      "text/html": [
       "<div>\n",
       "<style scoped>\n",
       "    .dataframe tbody tr th:only-of-type {\n",
       "        vertical-align: middle;\n",
       "    }\n",
       "\n",
       "    .dataframe tbody tr th {\n",
       "        vertical-align: top;\n",
       "    }\n",
       "\n",
       "    .dataframe thead th {\n",
       "        text-align: right;\n",
       "    }\n",
       "</style>\n",
       "<table border=\"1\" class=\"dataframe\">\n",
       "  <thead>\n",
       "    <tr style=\"text-align: right;\">\n",
       "      <th></th>\n",
       "      <th>index</th>\n",
       "      <th>forecastMarker</th>\n",
       "      <th>request_time</th>\n",
       "      <th>event_id</th>\n",
       "      <th>sender</th>\n",
       "      <th>context</th>\n",
       "      <th>session_id</th>\n",
       "      <th>event_name</th>\n",
       "      <th>shift</th>\n",
       "      <th>shift_sec</th>\n",
       "      <th>session_split</th>\n",
       "    </tr>\n",
       "  </thead>\n",
       "  <tbody>\n",
       "    <tr>\n",
       "      <th>1</th>\n",
       "      <td>1</td>\n",
       "      <td>SelfService/RUS/turnover</td>\n",
       "      <td>2022-09-12 11:30:11.111359</td>\n",
       "      <td>29</td>\n",
       "      <td>test_system</td>\n",
       "      <td>None</td>\n",
       "      <td>6f4277f6df57c4f4e90779966522c876</td>\n",
       "      <td>Начинаем получать гипермараметры и регрессоры</td>\n",
       "      <td>0 days 00:00:00.004731</td>\n",
       "      <td>0.004731</td>\n",
       "      <td>[test_system]</td>\n",
       "    </tr>\n",
       "    <tr>\n",
       "      <th>2</th>\n",
       "      <td>2</td>\n",
       "      <td>SelfService/RUS/turnover</td>\n",
       "      <td>2022-09-12 11:30:11.115989</td>\n",
       "      <td>2</td>\n",
       "      <td>test_system</td>\n",
       "      <td>None</td>\n",
       "      <td>6f4277f6df57c4f4e90779966522c876</td>\n",
       "      <td>Переход в функцию getParametrsAndRegressors</td>\n",
       "      <td>0 days 00:00:00.004630</td>\n",
       "      <td>0.004630</td>\n",
       "      <td>[test_system]</td>\n",
       "    </tr>\n",
       "    <tr>\n",
       "      <th>3</th>\n",
       "      <td>3</td>\n",
       "      <td>SelfService/RUS/turnover</td>\n",
       "      <td>2022-09-12 11:30:12.761754</td>\n",
       "      <td>3</td>\n",
       "      <td>test_system</td>\n",
       "      <td>Найдено 1 строк с параметрами</td>\n",
       "      <td>6f4277f6df57c4f4e90779966522c876</td>\n",
       "      <td>Выход из функции getParametrsAndRegressors с п...</td>\n",
       "      <td>0 days 00:00:01.645765</td>\n",
       "      <td>1.645765</td>\n",
       "      <td>[test_system]</td>\n",
       "    </tr>\n",
       "    <tr>\n",
       "      <th>4</th>\n",
       "      <td>4</td>\n",
       "      <td>SelfService/RUS/turnover</td>\n",
       "      <td>2022-09-12 11:30:12.770134</td>\n",
       "      <td>5</td>\n",
       "      <td>test_system</td>\n",
       "      <td>None</td>\n",
       "      <td>6f4277f6df57c4f4e90779966522c876</td>\n",
       "      <td>Записали в свойства класса гиперпараметры и ре...</td>\n",
       "      <td>0 days 00:00:00.008380</td>\n",
       "      <td>0.008380</td>\n",
       "      <td>[test_system]</td>\n",
       "    </tr>\n",
       "    <tr>\n",
       "      <th>5</th>\n",
       "      <td>5</td>\n",
       "      <td>SelfService/RUS/turnover</td>\n",
       "      <td>2022-09-12 11:30:12.780523</td>\n",
       "      <td>6</td>\n",
       "      <td>test_system</td>\n",
       "      <td>None</td>\n",
       "      <td>6f4277f6df57c4f4e90779966522c876</td>\n",
       "      <td>Начинаем читать данные из BQ по полученному SQ...</td>\n",
       "      <td>0 days 00:00:00.010389</td>\n",
       "      <td>0.010389</td>\n",
       "      <td>[test_system]</td>\n",
       "    </tr>\n",
       "    <tr>\n",
       "      <th>...</th>\n",
       "      <td>...</td>\n",
       "      <td>...</td>\n",
       "      <td>...</td>\n",
       "      <td>...</td>\n",
       "      <td>...</td>\n",
       "      <td>...</td>\n",
       "      <td>...</td>\n",
       "      <td>...</td>\n",
       "      <td>...</td>\n",
       "      <td>...</td>\n",
       "      <td>...</td>\n",
       "    </tr>\n",
       "    <tr>\n",
       "      <th>44726</th>\n",
       "      <td>11244</td>\n",
       "      <td>weekly_report.SS:new_users_90d:tiktok</td>\n",
       "      <td>2022-09-14 06:07:47.582138</td>\n",
       "      <td>24</td>\n",
       "      <td>weekly_report.ss</td>\n",
       "      <td>None</td>\n",
       "      <td>7caa7e3d9378310a86ce7e20fc58b561</td>\n",
       "      <td>saveForecastToCSV: выход из функции</td>\n",
       "      <td>0 days 00:00:00.053248</td>\n",
       "      <td>0.053248</td>\n",
       "      <td>[weekly_report.ss]</td>\n",
       "    </tr>\n",
       "    <tr>\n",
       "      <th>44727</th>\n",
       "      <td>11245</td>\n",
       "      <td>weekly_report.SS:new_users_90d:tiktok</td>\n",
       "      <td>2022-09-14 06:07:47.588185</td>\n",
       "      <td>15</td>\n",
       "      <td>weekly_report.ss</td>\n",
       "      <td>None</td>\n",
       "      <td>7caa7e3d9378310a86ce7e20fc58b561</td>\n",
       "      <td>get_forecast: выход из функции</td>\n",
       "      <td>0 days 00:00:00.006047</td>\n",
       "      <td>0.006047</td>\n",
       "      <td>[weekly_report.ss]</td>\n",
       "    </tr>\n",
       "    <tr>\n",
       "      <th>44728</th>\n",
       "      <td>11246</td>\n",
       "      <td>weekly_report.SS:new_users_90d:tiktok</td>\n",
       "      <td>2022-09-14 06:07:47.594110</td>\n",
       "      <td>16</td>\n",
       "      <td>weekly_report.ss</td>\n",
       "      <td>None</td>\n",
       "      <td>7caa7e3d9378310a86ce7e20fc58b561</td>\n",
       "      <td>updateForecastAnswer: вход в функцию</td>\n",
       "      <td>0 days 00:00:00.005925</td>\n",
       "      <td>0.005925</td>\n",
       "      <td>[weekly_report.ss]</td>\n",
       "    </tr>\n",
       "    <tr>\n",
       "      <th>44729</th>\n",
       "      <td>11247</td>\n",
       "      <td>weekly_report.SS:new_users_90d:tiktok</td>\n",
       "      <td>2022-09-14 06:07:47.601623</td>\n",
       "      <td>17</td>\n",
       "      <td>weekly_report.ss</td>\n",
       "      <td>None</td>\n",
       "      <td>7caa7e3d9378310a86ce7e20fc58b561</td>\n",
       "      <td>updateForecastAnswer: выход из функции</td>\n",
       "      <td>0 days 00:00:00.007513</td>\n",
       "      <td>0.007513</td>\n",
       "      <td>[weekly_report.ss]</td>\n",
       "    </tr>\n",
       "    <tr>\n",
       "      <th>44730</th>\n",
       "      <td>11248</td>\n",
       "      <td>weekly_report.SS:new_users_90d:tiktok</td>\n",
       "      <td>2022-09-14 06:07:47.609898</td>\n",
       "      <td>31</td>\n",
       "      <td>weekly_report.ss</td>\n",
       "      <td>Отдан датафрейм: (1352, 4)</td>\n",
       "      <td>7caa7e3d9378310a86ce7e20fc58b561</td>\n",
       "      <td>JSON отправлен обратно</td>\n",
       "      <td>0 days 00:00:00.008275</td>\n",
       "      <td>0.008275</td>\n",
       "      <td>[weekly_report.ss]</td>\n",
       "    </tr>\n",
       "  </tbody>\n",
       "</table>\n",
       "<p>43132 rows × 11 columns</p>\n",
       "</div>"
      ],
      "text/plain": [
       "       index                         forecastMarker  \\\n",
       "1          1               SelfService/RUS/turnover   \n",
       "2          2               SelfService/RUS/turnover   \n",
       "3          3               SelfService/RUS/turnover   \n",
       "4          4               SelfService/RUS/turnover   \n",
       "5          5               SelfService/RUS/turnover   \n",
       "...      ...                                    ...   \n",
       "44726  11244  weekly_report.SS:new_users_90d:tiktok   \n",
       "44727  11245  weekly_report.SS:new_users_90d:tiktok   \n",
       "44728  11246  weekly_report.SS:new_users_90d:tiktok   \n",
       "44729  11247  weekly_report.SS:new_users_90d:tiktok   \n",
       "44730  11248  weekly_report.SS:new_users_90d:tiktok   \n",
       "\n",
       "                    request_time  event_id            sender  \\\n",
       "1     2022-09-12 11:30:11.111359        29       test_system   \n",
       "2     2022-09-12 11:30:11.115989         2       test_system   \n",
       "3     2022-09-12 11:30:12.761754         3       test_system   \n",
       "4     2022-09-12 11:30:12.770134         5       test_system   \n",
       "5     2022-09-12 11:30:12.780523         6       test_system   \n",
       "...                          ...       ...               ...   \n",
       "44726 2022-09-14 06:07:47.582138        24  weekly_report.ss   \n",
       "44727 2022-09-14 06:07:47.588185        15  weekly_report.ss   \n",
       "44728 2022-09-14 06:07:47.594110        16  weekly_report.ss   \n",
       "44729 2022-09-14 06:07:47.601623        17  weekly_report.ss   \n",
       "44730 2022-09-14 06:07:47.609898        31  weekly_report.ss   \n",
       "\n",
       "                             context                        session_id  \\\n",
       "1                               None  6f4277f6df57c4f4e90779966522c876   \n",
       "2                               None  6f4277f6df57c4f4e90779966522c876   \n",
       "3      Найдено 1 строк с параметрами  6f4277f6df57c4f4e90779966522c876   \n",
       "4                               None  6f4277f6df57c4f4e90779966522c876   \n",
       "5                               None  6f4277f6df57c4f4e90779966522c876   \n",
       "...                              ...                               ...   \n",
       "44726                           None  7caa7e3d9378310a86ce7e20fc58b561   \n",
       "44727                           None  7caa7e3d9378310a86ce7e20fc58b561   \n",
       "44728                           None  7caa7e3d9378310a86ce7e20fc58b561   \n",
       "44729                           None  7caa7e3d9378310a86ce7e20fc58b561   \n",
       "44730     Отдан датафрейм: (1352, 4)  7caa7e3d9378310a86ce7e20fc58b561   \n",
       "\n",
       "                                              event_name  \\\n",
       "1          Начинаем получать гипермараметры и регрессоры   \n",
       "2            Переход в функцию getParametrsAndRegressors   \n",
       "3      Выход из функции getParametrsAndRegressors с п...   \n",
       "4      Записали в свойства класса гиперпараметры и ре...   \n",
       "5      Начинаем читать данные из BQ по полученному SQ...   \n",
       "...                                                  ...   \n",
       "44726                saveForecastToCSV: выход из функции   \n",
       "44727                     get_forecast: выход из функции   \n",
       "44728               updateForecastAnswer: вход в функцию   \n",
       "44729             updateForecastAnswer: выход из функции   \n",
       "44730                             JSON отправлен обратно   \n",
       "\n",
       "                       shift  shift_sec       session_split  \n",
       "1     0 days 00:00:00.004731   0.004731       [test_system]  \n",
       "2     0 days 00:00:00.004630   0.004630       [test_system]  \n",
       "3     0 days 00:00:01.645765   1.645765       [test_system]  \n",
       "4     0 days 00:00:00.008380   0.008380       [test_system]  \n",
       "5     0 days 00:00:00.010389   0.010389       [test_system]  \n",
       "...                      ...        ...                 ...  \n",
       "44726 0 days 00:00:00.053248   0.053248  [weekly_report.ss]  \n",
       "44727 0 days 00:00:00.006047   0.006047  [weekly_report.ss]  \n",
       "44728 0 days 00:00:00.005925   0.005925  [weekly_report.ss]  \n",
       "44729 0 days 00:00:00.007513   0.007513  [weekly_report.ss]  \n",
       "44730 0 days 00:00:00.008275   0.008275  [weekly_report.ss]  \n",
       "\n",
       "[43132 rows x 11 columns]"
      ]
     },
     "execution_count": 32,
     "metadata": {},
     "output_type": "execute_result"
    }
   ],
   "source": [
    "for i in range(len(s)):\n",
    "    if 'internal_call' in s['session_split'].iloc[i]:\n",
    "        s['session_id'].iloc[i] = s['session_split'].iloc[i][-1:][0]\n",
    "\n",
    "\n",
    "s"
   ]
  },
  {
   "cell_type": "code",
   "execution_count": 33,
   "metadata": {},
   "outputs": [
    {
     "data": {
      "text/plain": [
       "39220    weekly_report.care:count_of_jivo_SA\n",
       "Name: forecastMarker, dtype: object"
      ]
     },
     "execution_count": 33,
     "metadata": {},
     "output_type": "execute_result"
    }
   ],
   "source": [
    "longest_index_dop = s.groupby(by='session_id').sum().sort_values(by='shift_sec', ascending=False).head(1).index\n",
    "\n",
    "s[s['session_id'] == longest_index_dop[0]]['forecastMarker'].head(1)"
   ]
  },
  {
   "cell_type": "markdown",
   "metadata": {},
   "source": [
    "**Вывод**\n",
    "\n",
    "Если мы не учитываем процессы, вызванные отдельно, но внутри одной сессии, и не учитываем время между днями, то самая долгая сессия:\n",
    "\n",
    "- **weekly_report.care:count_of_jivo_SA**\n",
    "\n",
    "А если учитываем - то все равно та же самая задача\n",
    "\n"
   ]
  },
  {
   "cell_type": "markdown",
   "metadata": {},
   "source": [
    "## 4. Одновременные задачи"
   ]
  },
  {
   "cell_type": "code",
   "execution_count": 34,
   "metadata": {},
   "outputs": [
    {
     "data": {
      "text/html": [
       "<div>\n",
       "<style scoped>\n",
       "    .dataframe tbody tr th:only-of-type {\n",
       "        vertical-align: middle;\n",
       "    }\n",
       "\n",
       "    .dataframe tbody tr th {\n",
       "        vertical-align: top;\n",
       "    }\n",
       "\n",
       "    .dataframe thead th {\n",
       "        text-align: right;\n",
       "    }\n",
       "</style>\n",
       "<table border=\"1\" class=\"dataframe\">\n",
       "  <thead>\n",
       "    <tr style=\"text-align: right;\">\n",
       "      <th></th>\n",
       "      <th>index</th>\n",
       "      <th>forecastMarker</th>\n",
       "      <th>request_time</th>\n",
       "      <th>event_id</th>\n",
       "      <th>sender</th>\n",
       "      <th>context</th>\n",
       "      <th>session_id</th>\n",
       "      <th>event_name</th>\n",
       "      <th>shift</th>\n",
       "    </tr>\n",
       "  </thead>\n",
       "  <tbody>\n",
       "    <tr>\n",
       "      <th>0</th>\n",
       "      <td>0</td>\n",
       "      <td>SelfService/RUS/turnover</td>\n",
       "      <td>2022-09-12 11:30:11.106628</td>\n",
       "      <td>1</td>\n",
       "      <td>test_system</td>\n",
       "      <td>df = &lt;class 'NoneType'&gt;, sql_query = &lt;class 'N...</td>\n",
       "      <td>6f4277f6df57c4f4e90779966522c876</td>\n",
       "      <td>Инициализируем свойства класса</td>\n",
       "      <td>NaT</td>\n",
       "    </tr>\n",
       "    <tr>\n",
       "      <th>1</th>\n",
       "      <td>1</td>\n",
       "      <td>SelfService/RUS/turnover</td>\n",
       "      <td>2022-09-12 11:30:11.111359</td>\n",
       "      <td>29</td>\n",
       "      <td>test_system</td>\n",
       "      <td>None</td>\n",
       "      <td>6f4277f6df57c4f4e90779966522c876</td>\n",
       "      <td>Начинаем получать гипермараметры и регрессоры</td>\n",
       "      <td>0 days 00:00:00.004731</td>\n",
       "    </tr>\n",
       "    <tr>\n",
       "      <th>2</th>\n",
       "      <td>2</td>\n",
       "      <td>SelfService/RUS/turnover</td>\n",
       "      <td>2022-09-12 11:30:11.115989</td>\n",
       "      <td>2</td>\n",
       "      <td>test_system</td>\n",
       "      <td>None</td>\n",
       "      <td>6f4277f6df57c4f4e90779966522c876</td>\n",
       "      <td>Переход в функцию getParametrsAndRegressors</td>\n",
       "      <td>0 days 00:00:00.004630</td>\n",
       "    </tr>\n",
       "    <tr>\n",
       "      <th>3</th>\n",
       "      <td>3</td>\n",
       "      <td>SelfService/RUS/turnover</td>\n",
       "      <td>2022-09-12 11:30:12.761754</td>\n",
       "      <td>3</td>\n",
       "      <td>test_system</td>\n",
       "      <td>Найдено 1 строк с параметрами</td>\n",
       "      <td>6f4277f6df57c4f4e90779966522c876</td>\n",
       "      <td>Выход из функции getParametrsAndRegressors с п...</td>\n",
       "      <td>0 days 00:00:01.645765</td>\n",
       "    </tr>\n",
       "    <tr>\n",
       "      <th>4</th>\n",
       "      <td>4</td>\n",
       "      <td>SelfService/RUS/turnover</td>\n",
       "      <td>2022-09-12 11:30:12.770134</td>\n",
       "      <td>5</td>\n",
       "      <td>test_system</td>\n",
       "      <td>None</td>\n",
       "      <td>6f4277f6df57c4f4e90779966522c876</td>\n",
       "      <td>Записали в свойства класса гиперпараметры и ре...</td>\n",
       "      <td>0 days 00:00:00.008380</td>\n",
       "    </tr>\n",
       "    <tr>\n",
       "      <th>...</th>\n",
       "      <td>...</td>\n",
       "      <td>...</td>\n",
       "      <td>...</td>\n",
       "      <td>...</td>\n",
       "      <td>...</td>\n",
       "      <td>...</td>\n",
       "      <td>...</td>\n",
       "      <td>...</td>\n",
       "      <td>...</td>\n",
       "    </tr>\n",
       "    <tr>\n",
       "      <th>44726</th>\n",
       "      <td>11244</td>\n",
       "      <td>weekly_report.SS:new_users_90d:tiktok</td>\n",
       "      <td>2022-09-14 06:07:47.582138</td>\n",
       "      <td>24</td>\n",
       "      <td>weekly_report.ss</td>\n",
       "      <td>None</td>\n",
       "      <td>7caa7e3d9378310a86ce7e20fc58b561</td>\n",
       "      <td>saveForecastToCSV: выход из функции</td>\n",
       "      <td>0 days 00:00:00.053248</td>\n",
       "    </tr>\n",
       "    <tr>\n",
       "      <th>44727</th>\n",
       "      <td>11245</td>\n",
       "      <td>weekly_report.SS:new_users_90d:tiktok</td>\n",
       "      <td>2022-09-14 06:07:47.588185</td>\n",
       "      <td>15</td>\n",
       "      <td>weekly_report.ss</td>\n",
       "      <td>None</td>\n",
       "      <td>7caa7e3d9378310a86ce7e20fc58b561</td>\n",
       "      <td>get_forecast: выход из функции</td>\n",
       "      <td>0 days 00:00:00.006047</td>\n",
       "    </tr>\n",
       "    <tr>\n",
       "      <th>44728</th>\n",
       "      <td>11246</td>\n",
       "      <td>weekly_report.SS:new_users_90d:tiktok</td>\n",
       "      <td>2022-09-14 06:07:47.594110</td>\n",
       "      <td>16</td>\n",
       "      <td>weekly_report.ss</td>\n",
       "      <td>None</td>\n",
       "      <td>7caa7e3d9378310a86ce7e20fc58b561</td>\n",
       "      <td>updateForecastAnswer: вход в функцию</td>\n",
       "      <td>0 days 00:00:00.005925</td>\n",
       "    </tr>\n",
       "    <tr>\n",
       "      <th>44729</th>\n",
       "      <td>11247</td>\n",
       "      <td>weekly_report.SS:new_users_90d:tiktok</td>\n",
       "      <td>2022-09-14 06:07:47.601623</td>\n",
       "      <td>17</td>\n",
       "      <td>weekly_report.ss</td>\n",
       "      <td>None</td>\n",
       "      <td>7caa7e3d9378310a86ce7e20fc58b561</td>\n",
       "      <td>updateForecastAnswer: выход из функции</td>\n",
       "      <td>0 days 00:00:00.007513</td>\n",
       "    </tr>\n",
       "    <tr>\n",
       "      <th>44730</th>\n",
       "      <td>11248</td>\n",
       "      <td>weekly_report.SS:new_users_90d:tiktok</td>\n",
       "      <td>2022-09-14 06:07:47.609898</td>\n",
       "      <td>31</td>\n",
       "      <td>weekly_report.ss</td>\n",
       "      <td>Отдан датафрейм: (1352, 4)</td>\n",
       "      <td>7caa7e3d9378310a86ce7e20fc58b561</td>\n",
       "      <td>JSON отправлен обратно</td>\n",
       "      <td>0 days 00:00:00.008275</td>\n",
       "    </tr>\n",
       "  </tbody>\n",
       "</table>\n",
       "<p>44731 rows × 9 columns</p>\n",
       "</div>"
      ],
      "text/plain": [
       "       index                         forecastMarker  \\\n",
       "0          0               SelfService/RUS/turnover   \n",
       "1          1               SelfService/RUS/turnover   \n",
       "2          2               SelfService/RUS/turnover   \n",
       "3          3               SelfService/RUS/turnover   \n",
       "4          4               SelfService/RUS/turnover   \n",
       "...      ...                                    ...   \n",
       "44726  11244  weekly_report.SS:new_users_90d:tiktok   \n",
       "44727  11245  weekly_report.SS:new_users_90d:tiktok   \n",
       "44728  11246  weekly_report.SS:new_users_90d:tiktok   \n",
       "44729  11247  weekly_report.SS:new_users_90d:tiktok   \n",
       "44730  11248  weekly_report.SS:new_users_90d:tiktok   \n",
       "\n",
       "                    request_time  event_id            sender  \\\n",
       "0     2022-09-12 11:30:11.106628         1       test_system   \n",
       "1     2022-09-12 11:30:11.111359        29       test_system   \n",
       "2     2022-09-12 11:30:11.115989         2       test_system   \n",
       "3     2022-09-12 11:30:12.761754         3       test_system   \n",
       "4     2022-09-12 11:30:12.770134         5       test_system   \n",
       "...                          ...       ...               ...   \n",
       "44726 2022-09-14 06:07:47.582138        24  weekly_report.ss   \n",
       "44727 2022-09-14 06:07:47.588185        15  weekly_report.ss   \n",
       "44728 2022-09-14 06:07:47.594110        16  weekly_report.ss   \n",
       "44729 2022-09-14 06:07:47.601623        17  weekly_report.ss   \n",
       "44730 2022-09-14 06:07:47.609898        31  weekly_report.ss   \n",
       "\n",
       "                                                 context  \\\n",
       "0      df = <class 'NoneType'>, sql_query = <class 'N...   \n",
       "1                                                   None   \n",
       "2                                                   None   \n",
       "3                          Найдено 1 строк с параметрами   \n",
       "4                                                   None   \n",
       "...                                                  ...   \n",
       "44726                                               None   \n",
       "44727                                               None   \n",
       "44728                                               None   \n",
       "44729                                               None   \n",
       "44730                         Отдан датафрейм: (1352, 4)   \n",
       "\n",
       "                             session_id  \\\n",
       "0      6f4277f6df57c4f4e90779966522c876   \n",
       "1      6f4277f6df57c4f4e90779966522c876   \n",
       "2      6f4277f6df57c4f4e90779966522c876   \n",
       "3      6f4277f6df57c4f4e90779966522c876   \n",
       "4      6f4277f6df57c4f4e90779966522c876   \n",
       "...                                 ...   \n",
       "44726  7caa7e3d9378310a86ce7e20fc58b561   \n",
       "44727  7caa7e3d9378310a86ce7e20fc58b561   \n",
       "44728  7caa7e3d9378310a86ce7e20fc58b561   \n",
       "44729  7caa7e3d9378310a86ce7e20fc58b561   \n",
       "44730  7caa7e3d9378310a86ce7e20fc58b561   \n",
       "\n",
       "                                              event_name  \\\n",
       "0                         Инициализируем свойства класса   \n",
       "1          Начинаем получать гипермараметры и регрессоры   \n",
       "2            Переход в функцию getParametrsAndRegressors   \n",
       "3      Выход из функции getParametrsAndRegressors с п...   \n",
       "4      Записали в свойства класса гиперпараметры и ре...   \n",
       "...                                                  ...   \n",
       "44726                saveForecastToCSV: выход из функции   \n",
       "44727                     get_forecast: выход из функции   \n",
       "44728               updateForecastAnswer: вход в функцию   \n",
       "44729             updateForecastAnswer: выход из функции   \n",
       "44730                             JSON отправлен обратно   \n",
       "\n",
       "                       shift  \n",
       "0                        NaT  \n",
       "1     0 days 00:00:00.004731  \n",
       "2     0 days 00:00:00.004630  \n",
       "3     0 days 00:00:01.645765  \n",
       "4     0 days 00:00:00.008380  \n",
       "...                      ...  \n",
       "44726 0 days 00:00:00.053248  \n",
       "44727 0 days 00:00:00.006047  \n",
       "44728 0 days 00:00:00.005925  \n",
       "44729 0 days 00:00:00.007513  \n",
       "44730 0 days 00:00:00.008275  \n",
       "\n",
       "[44731 rows x 9 columns]"
      ]
     },
     "execution_count": 34,
     "metadata": {},
     "output_type": "execute_result"
    }
   ],
   "source": [
    "df"
   ]
  },
  {
   "cell_type": "code",
   "execution_count": 35,
   "metadata": {},
   "outputs": [
    {
     "data": {
      "text/plain": [
       "index             31\n",
       "forecastMarker    31\n",
       "event_id          31\n",
       "sender            31\n",
       "context           31\n",
       "event_name        31\n",
       "shift             31\n",
       "dtype: int64"
      ]
     },
     "execution_count": 35,
     "metadata": {},
     "output_type": "execute_result"
    }
   ],
   "source": [
    "df.groupby([pd.Grouper(key='request_time', freq='T'), 'session_id']).count().max()"
   ]
  },
  {
   "cell_type": "code",
   "execution_count": 36,
   "metadata": {},
   "outputs": [],
   "source": [
    "start_time = pd.DataFrame(df.groupby(by='session_id')['request_time'].min().reset_index())\n",
    "\n",
    "start_time.columns = ['session_id', 'start_of_session']"
   ]
  },
  {
   "cell_type": "code",
   "execution_count": 37,
   "metadata": {},
   "outputs": [],
   "source": [
    "end_time = pd.DataFrame(df.groupby(by='session_id')['request_time'].max().reset_index())\n",
    "\n",
    "end_time.columns = ['session_id', 'end_of_session']"
   ]
  },
  {
   "cell_type": "code",
   "execution_count": 38,
   "metadata": {},
   "outputs": [],
   "source": [
    "parallels = start_time.merge(end_time, on=['session_id'])"
   ]
  },
  {
   "cell_type": "code",
   "execution_count": 39,
   "metadata": {},
   "outputs": [],
   "source": [
    "parallels = parallels.sort_values(by='start_of_session')"
   ]
  },
  {
   "cell_type": "code",
   "execution_count": 40,
   "metadata": {},
   "outputs": [
    {
     "data": {
      "text/html": [
       "<div>\n",
       "<style scoped>\n",
       "    .dataframe tbody tr th:only-of-type {\n",
       "        vertical-align: middle;\n",
       "    }\n",
       "\n",
       "    .dataframe tbody tr th {\n",
       "        vertical-align: top;\n",
       "    }\n",
       "\n",
       "    .dataframe thead th {\n",
       "        text-align: right;\n",
       "    }\n",
       "</style>\n",
       "<table border=\"1\" class=\"dataframe\">\n",
       "  <thead>\n",
       "    <tr style=\"text-align: right;\">\n",
       "      <th></th>\n",
       "      <th>session_id</th>\n",
       "      <th>start_of_session</th>\n",
       "      <th>end_of_session</th>\n",
       "    </tr>\n",
       "  </thead>\n",
       "  <tbody>\n",
       "    <tr>\n",
       "      <th>694</th>\n",
       "      <td>6f4277f6df57c4f4e90779966522c876</td>\n",
       "      <td>2022-09-12 11:30:11.106628</td>\n",
       "      <td>2022-09-12 11:30:36.249818</td>\n",
       "    </tr>\n",
       "    <tr>\n",
       "      <th>1174</th>\n",
       "      <td>ba9c7ee046c9fbdc0c8713c86409bdc3</td>\n",
       "      <td>2022-09-12 11:30:18.666983</td>\n",
       "      <td>2022-09-12 11:30:29.936695</td>\n",
       "    </tr>\n",
       "    <tr>\n",
       "      <th>1529</th>\n",
       "      <td>f425376c334840a59b585165f9ca87dc</td>\n",
       "      <td>2022-09-12 12:13:46.808490</td>\n",
       "      <td>2022-09-12 12:13:57.512095</td>\n",
       "    </tr>\n",
       "    <tr>\n",
       "      <th>544</th>\n",
       "      <td>58e407a7bc512bc4b282457c05893ebc</td>\n",
       "      <td>2022-09-12 12:14:04.816840</td>\n",
       "      <td>2022-09-12 12:14:15.082298</td>\n",
       "    </tr>\n",
       "    <tr>\n",
       "      <th>765</th>\n",
       "      <td>7c25b8a1058e6c036c443b8cd6dd8c69</td>\n",
       "      <td>2022-09-12 12:14:19.332540</td>\n",
       "      <td>2022-09-12 12:14:31.408749</td>\n",
       "    </tr>\n",
       "    <tr>\n",
       "      <th>...</th>\n",
       "      <td>...</td>\n",
       "      <td>...</td>\n",
       "      <td>...</td>\n",
       "    </tr>\n",
       "    <tr>\n",
       "      <th>1564</th>\n",
       "      <td>fa72d025f3719d3ed2f538afebc52bda</td>\n",
       "      <td>2022-09-14 06:06:53.773223</td>\n",
       "      <td>2022-09-14 06:07:04.552616</td>\n",
       "    </tr>\n",
       "    <tr>\n",
       "      <th>784</th>\n",
       "      <td>7efbf3b6d66e51ea2284fffaafc31887</td>\n",
       "      <td>2022-09-14 06:07:05.036734</td>\n",
       "      <td>2022-09-14 06:07:15.720122</td>\n",
       "    </tr>\n",
       "    <tr>\n",
       "      <th>542</th>\n",
       "      <td>58cf6093f01da7f06a5b55580ba80795</td>\n",
       "      <td>2022-09-14 06:07:16.204119</td>\n",
       "      <td>2022-09-14 06:07:26.420862</td>\n",
       "    </tr>\n",
       "    <tr>\n",
       "      <th>1234</th>\n",
       "      <td>c65e04642c4d3a742f78976fadc93f7e</td>\n",
       "      <td>2022-09-14 06:07:26.921552</td>\n",
       "      <td>2022-09-14 06:07:36.054822</td>\n",
       "    </tr>\n",
       "    <tr>\n",
       "      <th>771</th>\n",
       "      <td>7caa7e3d9378310a86ce7e20fc58b561</td>\n",
       "      <td>2022-09-14 06:07:36.558670</td>\n",
       "      <td>2022-09-14 06:07:47.609898</td>\n",
       "    </tr>\n",
       "  </tbody>\n",
       "</table>\n",
       "<p>1599 rows × 3 columns</p>\n",
       "</div>"
      ],
      "text/plain": [
       "                            session_id           start_of_session  \\\n",
       "694   6f4277f6df57c4f4e90779966522c876 2022-09-12 11:30:11.106628   \n",
       "1174  ba9c7ee046c9fbdc0c8713c86409bdc3 2022-09-12 11:30:18.666983   \n",
       "1529  f425376c334840a59b585165f9ca87dc 2022-09-12 12:13:46.808490   \n",
       "544   58e407a7bc512bc4b282457c05893ebc 2022-09-12 12:14:04.816840   \n",
       "765   7c25b8a1058e6c036c443b8cd6dd8c69 2022-09-12 12:14:19.332540   \n",
       "...                                ...                        ...   \n",
       "1564  fa72d025f3719d3ed2f538afebc52bda 2022-09-14 06:06:53.773223   \n",
       "784   7efbf3b6d66e51ea2284fffaafc31887 2022-09-14 06:07:05.036734   \n",
       "542   58cf6093f01da7f06a5b55580ba80795 2022-09-14 06:07:16.204119   \n",
       "1234  c65e04642c4d3a742f78976fadc93f7e 2022-09-14 06:07:26.921552   \n",
       "771   7caa7e3d9378310a86ce7e20fc58b561 2022-09-14 06:07:36.558670   \n",
       "\n",
       "                 end_of_session  \n",
       "694  2022-09-12 11:30:36.249818  \n",
       "1174 2022-09-12 11:30:29.936695  \n",
       "1529 2022-09-12 12:13:57.512095  \n",
       "544  2022-09-12 12:14:15.082298  \n",
       "765  2022-09-12 12:14:31.408749  \n",
       "...                         ...  \n",
       "1564 2022-09-14 06:07:04.552616  \n",
       "784  2022-09-14 06:07:15.720122  \n",
       "542  2022-09-14 06:07:26.420862  \n",
       "1234 2022-09-14 06:07:36.054822  \n",
       "771  2022-09-14 06:07:47.609898  \n",
       "\n",
       "[1599 rows x 3 columns]"
      ]
     },
     "execution_count": 40,
     "metadata": {},
     "output_type": "execute_result"
    }
   ],
   "source": [
    "test = parallels.copy()\n",
    "\n",
    "test"
   ]
  },
  {
   "cell_type": "code",
   "execution_count": 41,
   "metadata": {},
   "outputs": [
    {
     "name": "stdout",
     "output_type": "stream",
     "text": [
      "2\n"
     ]
    }
   ],
   "source": [
    "id = 0\n",
    "max = test['end_of_session'].iloc[id]\n",
    "count = 0\n",
    "big = 0\n",
    "\n",
    "for i in range(len(test)):\n",
    "    if max > test['start_of_session'].iloc[i]:\n",
    "        count += 1\n",
    "        if count > big:\n",
    "            big = count\n",
    "    else: \n",
    "        id += 1\n",
    "\n",
    "print(count)\n"
   ]
  },
  {
   "cell_type": "markdown",
   "metadata": {},
   "source": [
    "**Вывод**\n",
    "\n",
    "При ресемплировании датасета в шаг `1 минута`:\n",
    "\n",
    "- Получаем **31** параллельных задачи\n",
    "\n",
    "При точном подсчете, без ресемплирования:\n",
    "\n",
    "- Получаем **2** задачи"
   ]
  },
  {
   "cell_type": "markdown",
   "metadata": {},
   "source": [
    "## 5. Незавершенные сессии"
   ]
  },
  {
   "cell_type": "code",
   "execution_count": 56,
   "metadata": {},
   "outputs": [],
   "source": [
    "datas = [df_12, df_13, df_14]\n",
    "counts = []\n",
    "\n",
    "for i in datas:\n",
    "    counts.append(i[i['event_id'] == 1].shape[0] - i[i['event_id'] == 31].shape[0])\n",
    "\n",
    "unsuccessful_events = pd.DataFrame(counts, index=['log_12', 'log_13', 'log_14'], columns=['count'])"
   ]
  },
  {
   "cell_type": "code",
   "execution_count": 57,
   "metadata": {},
   "outputs": [
    {
     "data": {
      "image/png": "[encoded data removed]",
      "text/plain": [
       "<Figure size 720x504 with 1 Axes>"
      ]
     },
     "metadata": {},
     "output_type": "display_data"
    }
   ],
   "source": [
    "unsuccessful_events = unsuccessful_events.reset_index()\n",
    "unsuccessful_events.columns = ['log', 'count']\n",
    "\n",
    "ax = sns.barplot(data = unsuccessful_events, x='log', y='count', alpha=0.8)\n",
    "plt.title('Количество неудачных сеансов в логах')\n",
    "plt.ylabel('Количество', fontsize=12)\n",
    "plt.xlabel('Логи', fontsize=12)\n",
    "plt.show()"
   ]
  },
  {
   "cell_type": "code",
   "execution_count": 63,
   "metadata": {},
   "outputs": [],
   "source": [
    "df['day'] = df.request_time.dt.day"
   ]
  },
  {
   "cell_type": "code",
   "execution_count": 75,
   "metadata": {},
   "outputs": [
    {
     "data": {
      "text/plain": [
       "{12: [],\n",
       " 13: ['SaaS/RUS/turnover/targetMailRu',\n",
       "  'None',\n",
       "  'weekly_report.SAAS:turnover',\n",
       "  'weekly_report.SAAS:new_visitors'],\n",
       " 14: ['weekly_report.SAAS:new_visitors:utm_medium:organic']}"
      ]
     },
     "execution_count": 75,
     "metadata": {},
     "output_type": "execute_result"
    }
   ],
   "source": [
    "unfinished_markers = pd.DataFrame(df.groupby(['session_id', 'forecastMarker', 'day'])['event_id'].unique()).reset_index()\n",
    "\n",
    "markers_dict = {12 : [],\n",
    "                13 : [],\n",
    "                14 : []}\n",
    "\n",
    "\n",
    "for i in range(len(unfinished_markers.event_id)):\n",
    "    if 31 not in unfinished_markers.event_id[i]:\n",
    "        markers_dict[unfinished_markers.day[i]].append(unfinished_markers.forecastMarker[i])\n",
    "\n",
    "\n",
    "markers_dict\n"
   ]
  },
  {
   "cell_type": "markdown",
   "metadata": {},
   "source": [
    "**Вывод**\n",
    "\n",
    "Общее количество незавершенных сессий **5:**\n",
    "\n",
    "* **4 сессии 2022-09-13**\n",
    "    * 'SaaS/RUS/turnover/targetMailRu'\n",
    "    * 'None'\n",
    "    * 'weekly_report.SAAS:turnover'\n",
    "    * 'weekly_report.SAAS:new_visitors'\n",
    "* **1 сессия 2022-09-14**\n",
    "    * 'weekly_report.SAAS:new_visitors:utm_medium:organic'"
   ]
  }
 ],
 "metadata": {
  "kernelspec": {
   "display_name": "Python 3.9.12 ('practicum')",
   "language": "python",
   "name": "python3"
  },
  "language_info": {
   "codemirror_mode": {
    "name": "ipython",
    "version": 3
   },
   "file_extension": ".py",
   "mimetype": "text/x-python",
   "name": "python",
   "nbconvert_exporter": "python",
   "pygments_lexer": "ipython3",
   "version": "3.9.12"
  },
  "orig_nbformat": 4,
  "vscode": {
   "interpreter": {
    "hash": "e9b40e9b7776d6804bbf4a6b40cf4d5db7ef3d8998b5f4289d5f917a9ea7efc4"
   }
  }
 },
 "nbformat": 4,
 "nbformat_minor": 2
}
